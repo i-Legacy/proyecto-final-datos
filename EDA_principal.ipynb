{
 "cells": [
  {
   "cell_type": "code",
   "execution_count": 1,
   "metadata": {},
   "outputs": [],
   "source": [
    "# Importando bibliotecas\n",
    "import pandas as pd\n",
    "import numpy as np\n",
    "from datetime import datetime\n",
    "import matplotlib.pyplot as plt\n",
    "import plotly.express as px\n",
    "import yfinance as yf\n",
    "\n",
    "\n",
    "import seaborn as sns\n",
    "\n",
    "%matplotlib inline\n",
    "%config InlineBackend.figure_format='retina'\n",
    "import warnings\n",
    "warnings.filterwarnings(\"ignore\")"
   ]
  },
  {
   "cell_type": "code",
   "execution_count": null,
   "metadata": {},
   "outputs": [
    {
     "name": "stdout",
     "output_type": "stream",
     "text": [
      "Failed to get ticker '^GSPC' reason: Expecting value: line 1 column 1 (char 0)\n",
      "- ^GSPC: No timezone found, symbol may be delisted\n"
     ]
    },
    {
     "data": {
      "text/html": [
       "<div>\n",
       "<style scoped>\n",
       "    .dataframe tbody tr th:only-of-type {\n",
       "        vertical-align: middle;\n",
       "    }\n",
       "\n",
       "    .dataframe tbody tr th {\n",
       "        vertical-align: top;\n",
       "    }\n",
       "\n",
       "    .dataframe thead th {\n",
       "        text-align: right;\n",
       "    }\n",
       "</style>\n",
       "<table border=\"1\" class=\"dataframe\">\n",
       "  <thead>\n",
       "    <tr style=\"text-align: right;\">\n",
       "      <th></th>\n",
       "      <th>Open</th>\n",
       "      <th>High</th>\n",
       "      <th>Low</th>\n",
       "      <th>Close</th>\n",
       "      <th>Adj Close</th>\n",
       "      <th>Volume</th>\n",
       "    </tr>\n",
       "    <tr>\n",
       "      <th>Date</th>\n",
       "      <th></th>\n",
       "      <th></th>\n",
       "      <th></th>\n",
       "      <th></th>\n",
       "      <th></th>\n",
       "      <th></th>\n",
       "    </tr>\n",
       "  </thead>\n",
       "  <tbody>\n",
       "  </tbody>\n",
       "</table>\n",
       "</div>"
      ],
      "text/plain": [
       "Empty DataFrame\n",
       "Columns: [Open, High, Low, Close, Adj Close, Volume]\n",
       "Index: []"
      ]
     },
     "execution_count": 4,
     "metadata": {},
     "output_type": "execute_result"
    }
   ],
   "source": [
    "# Obteniendo la información del índice S&P500\n",
    "\n",
    "sp500 = yf.Ticker(\"^GSPC\").history(start='2000-01-01', end = None)\n",
    "\n",
    "\n",
    "\n",
    "sp500.tail()\n"
   ]
  },
  {
   "cell_type": "code",
   "execution_count": 3,
   "metadata": {},
   "outputs": [
    {
     "ename": "KeyError",
     "evalue": "\"['Dividends', 'Stock Splits'] not found in axis\"",
     "output_type": "error",
     "traceback": [
      "\u001b[0;31m---------------------------------------------------------------------------\u001b[0m",
      "\u001b[0;31mKeyError\u001b[0m                                  Traceback (most recent call last)",
      "Cell \u001b[0;32mIn[3], line 2\u001b[0m\n\u001b[1;32m      1\u001b[0m \u001b[38;5;66;03m# Borrando las columnas 'Dividends' and 'Stock Splits'\u001b[39;00m\n\u001b[0;32m----> 2\u001b[0m sp500 \u001b[38;5;241m=\u001b[39m \u001b[43msp500\u001b[49m\u001b[38;5;241;43m.\u001b[39;49m\u001b[43mdrop\u001b[49m\u001b[43m(\u001b[49m\u001b[43mcolumns\u001b[49m\u001b[38;5;241;43m=\u001b[39;49m\u001b[43m[\u001b[49m\u001b[38;5;124;43m'\u001b[39;49m\u001b[38;5;124;43mDividends\u001b[39;49m\u001b[38;5;124;43m'\u001b[39;49m\u001b[43m,\u001b[49m\u001b[43m \u001b[49m\u001b[38;5;124;43m'\u001b[39;49m\u001b[38;5;124;43mStock Splits\u001b[39;49m\u001b[38;5;124;43m'\u001b[39;49m\u001b[43m]\u001b[49m\u001b[43m)\u001b[49m\n\u001b[1;32m      4\u001b[0m sp500\u001b[38;5;241m.\u001b[39mtail()\n",
      "File \u001b[0;32m~/projects/PI-II_Data_Analytics/venv/lib/python3.10/site-packages/pandas/util/_decorators.py:331\u001b[0m, in \u001b[0;36mdeprecate_nonkeyword_arguments.<locals>.decorate.<locals>.wrapper\u001b[0;34m(*args, **kwargs)\u001b[0m\n\u001b[1;32m    325\u001b[0m \u001b[38;5;28;01mif\u001b[39;00m \u001b[38;5;28mlen\u001b[39m(args) \u001b[38;5;241m>\u001b[39m num_allow_args:\n\u001b[1;32m    326\u001b[0m     warnings\u001b[38;5;241m.\u001b[39mwarn(\n\u001b[1;32m    327\u001b[0m         msg\u001b[38;5;241m.\u001b[39mformat(arguments\u001b[38;5;241m=\u001b[39m_format_argument_list(allow_args)),\n\u001b[1;32m    328\u001b[0m         \u001b[38;5;167;01mFutureWarning\u001b[39;00m,\n\u001b[1;32m    329\u001b[0m         stacklevel\u001b[38;5;241m=\u001b[39mfind_stack_level(),\n\u001b[1;32m    330\u001b[0m     )\n\u001b[0;32m--> 331\u001b[0m \u001b[38;5;28;01mreturn\u001b[39;00m \u001b[43mfunc\u001b[49m\u001b[43m(\u001b[49m\u001b[38;5;241;43m*\u001b[39;49m\u001b[43margs\u001b[49m\u001b[43m,\u001b[49m\u001b[43m \u001b[49m\u001b[38;5;241;43m*\u001b[39;49m\u001b[38;5;241;43m*\u001b[39;49m\u001b[43mkwargs\u001b[49m\u001b[43m)\u001b[49m\n",
      "File \u001b[0;32m~/projects/PI-II_Data_Analytics/venv/lib/python3.10/site-packages/pandas/core/frame.py:5399\u001b[0m, in \u001b[0;36mDataFrame.drop\u001b[0;34m(self, labels, axis, index, columns, level, inplace, errors)\u001b[0m\n\u001b[1;32m   5251\u001b[0m \u001b[38;5;129m@deprecate_nonkeyword_arguments\u001b[39m(version\u001b[38;5;241m=\u001b[39m\u001b[38;5;28;01mNone\u001b[39;00m, allowed_args\u001b[38;5;241m=\u001b[39m[\u001b[38;5;124m\"\u001b[39m\u001b[38;5;124mself\u001b[39m\u001b[38;5;124m\"\u001b[39m, \u001b[38;5;124m\"\u001b[39m\u001b[38;5;124mlabels\u001b[39m\u001b[38;5;124m\"\u001b[39m])\n\u001b[1;32m   5252\u001b[0m \u001b[38;5;28;01mdef\u001b[39;00m \u001b[38;5;21mdrop\u001b[39m(  \u001b[38;5;66;03m# type: ignore[override]\u001b[39;00m\n\u001b[1;32m   5253\u001b[0m     \u001b[38;5;28mself\u001b[39m,\n\u001b[0;32m   (...)\u001b[0m\n\u001b[1;32m   5260\u001b[0m     errors: IgnoreRaise \u001b[38;5;241m=\u001b[39m \u001b[38;5;124m\"\u001b[39m\u001b[38;5;124mraise\u001b[39m\u001b[38;5;124m\"\u001b[39m,\n\u001b[1;32m   5261\u001b[0m ) \u001b[38;5;241m-\u001b[39m\u001b[38;5;241m>\u001b[39m DataFrame \u001b[38;5;241m|\u001b[39m \u001b[38;5;28;01mNone\u001b[39;00m:\n\u001b[1;32m   5262\u001b[0m \u001b[38;5;250m    \u001b[39m\u001b[38;5;124;03m\"\"\"\u001b[39;00m\n\u001b[1;32m   5263\u001b[0m \u001b[38;5;124;03m    Drop specified labels from rows or columns.\u001b[39;00m\n\u001b[1;32m   5264\u001b[0m \n\u001b[0;32m   (...)\u001b[0m\n\u001b[1;32m   5397\u001b[0m \u001b[38;5;124;03m            weight  1.0     0.8\u001b[39;00m\n\u001b[1;32m   5398\u001b[0m \u001b[38;5;124;03m    \"\"\"\u001b[39;00m\n\u001b[0;32m-> 5399\u001b[0m     \u001b[38;5;28;01mreturn\u001b[39;00m \u001b[38;5;28;43msuper\u001b[39;49m\u001b[43m(\u001b[49m\u001b[43m)\u001b[49m\u001b[38;5;241;43m.\u001b[39;49m\u001b[43mdrop\u001b[49m\u001b[43m(\u001b[49m\n\u001b[1;32m   5400\u001b[0m \u001b[43m        \u001b[49m\u001b[43mlabels\u001b[49m\u001b[38;5;241;43m=\u001b[39;49m\u001b[43mlabels\u001b[49m\u001b[43m,\u001b[49m\n\u001b[1;32m   5401\u001b[0m \u001b[43m        \u001b[49m\u001b[43maxis\u001b[49m\u001b[38;5;241;43m=\u001b[39;49m\u001b[43maxis\u001b[49m\u001b[43m,\u001b[49m\n\u001b[1;32m   5402\u001b[0m \u001b[43m        \u001b[49m\u001b[43mindex\u001b[49m\u001b[38;5;241;43m=\u001b[39;49m\u001b[43mindex\u001b[49m\u001b[43m,\u001b[49m\n\u001b[1;32m   5403\u001b[0m \u001b[43m        \u001b[49m\u001b[43mcolumns\u001b[49m\u001b[38;5;241;43m=\u001b[39;49m\u001b[43mcolumns\u001b[49m\u001b[43m,\u001b[49m\n\u001b[1;32m   5404\u001b[0m \u001b[43m        \u001b[49m\u001b[43mlevel\u001b[49m\u001b[38;5;241;43m=\u001b[39;49m\u001b[43mlevel\u001b[49m\u001b[43m,\u001b[49m\n\u001b[1;32m   5405\u001b[0m \u001b[43m        \u001b[49m\u001b[43minplace\u001b[49m\u001b[38;5;241;43m=\u001b[39;49m\u001b[43minplace\u001b[49m\u001b[43m,\u001b[49m\n\u001b[1;32m   5406\u001b[0m \u001b[43m        \u001b[49m\u001b[43merrors\u001b[49m\u001b[38;5;241;43m=\u001b[39;49m\u001b[43merrors\u001b[49m\u001b[43m,\u001b[49m\n\u001b[1;32m   5407\u001b[0m \u001b[43m    \u001b[49m\u001b[43m)\u001b[49m\n",
      "File \u001b[0;32m~/projects/PI-II_Data_Analytics/venv/lib/python3.10/site-packages/pandas/util/_decorators.py:331\u001b[0m, in \u001b[0;36mdeprecate_nonkeyword_arguments.<locals>.decorate.<locals>.wrapper\u001b[0;34m(*args, **kwargs)\u001b[0m\n\u001b[1;32m    325\u001b[0m \u001b[38;5;28;01mif\u001b[39;00m \u001b[38;5;28mlen\u001b[39m(args) \u001b[38;5;241m>\u001b[39m num_allow_args:\n\u001b[1;32m    326\u001b[0m     warnings\u001b[38;5;241m.\u001b[39mwarn(\n\u001b[1;32m    327\u001b[0m         msg\u001b[38;5;241m.\u001b[39mformat(arguments\u001b[38;5;241m=\u001b[39m_format_argument_list(allow_args)),\n\u001b[1;32m    328\u001b[0m         \u001b[38;5;167;01mFutureWarning\u001b[39;00m,\n\u001b[1;32m    329\u001b[0m         stacklevel\u001b[38;5;241m=\u001b[39mfind_stack_level(),\n\u001b[1;32m    330\u001b[0m     )\n\u001b[0;32m--> 331\u001b[0m \u001b[38;5;28;01mreturn\u001b[39;00m \u001b[43mfunc\u001b[49m\u001b[43m(\u001b[49m\u001b[38;5;241;43m*\u001b[39;49m\u001b[43margs\u001b[49m\u001b[43m,\u001b[49m\u001b[43m \u001b[49m\u001b[38;5;241;43m*\u001b[39;49m\u001b[38;5;241;43m*\u001b[39;49m\u001b[43mkwargs\u001b[49m\u001b[43m)\u001b[49m\n",
      "File \u001b[0;32m~/projects/PI-II_Data_Analytics/venv/lib/python3.10/site-packages/pandas/core/generic.py:4505\u001b[0m, in \u001b[0;36mNDFrame.drop\u001b[0;34m(self, labels, axis, index, columns, level, inplace, errors)\u001b[0m\n\u001b[1;32m   4503\u001b[0m \u001b[38;5;28;01mfor\u001b[39;00m axis, labels \u001b[38;5;129;01min\u001b[39;00m axes\u001b[38;5;241m.\u001b[39mitems():\n\u001b[1;32m   4504\u001b[0m     \u001b[38;5;28;01mif\u001b[39;00m labels \u001b[38;5;129;01mis\u001b[39;00m \u001b[38;5;129;01mnot\u001b[39;00m \u001b[38;5;28;01mNone\u001b[39;00m:\n\u001b[0;32m-> 4505\u001b[0m         obj \u001b[38;5;241m=\u001b[39m \u001b[43mobj\u001b[49m\u001b[38;5;241;43m.\u001b[39;49m\u001b[43m_drop_axis\u001b[49m\u001b[43m(\u001b[49m\u001b[43mlabels\u001b[49m\u001b[43m,\u001b[49m\u001b[43m \u001b[49m\u001b[43maxis\u001b[49m\u001b[43m,\u001b[49m\u001b[43m \u001b[49m\u001b[43mlevel\u001b[49m\u001b[38;5;241;43m=\u001b[39;49m\u001b[43mlevel\u001b[49m\u001b[43m,\u001b[49m\u001b[43m \u001b[49m\u001b[43merrors\u001b[49m\u001b[38;5;241;43m=\u001b[39;49m\u001b[43merrors\u001b[49m\u001b[43m)\u001b[49m\n\u001b[1;32m   4507\u001b[0m \u001b[38;5;28;01mif\u001b[39;00m inplace:\n\u001b[1;32m   4508\u001b[0m     \u001b[38;5;28mself\u001b[39m\u001b[38;5;241m.\u001b[39m_update_inplace(obj)\n",
      "File \u001b[0;32m~/projects/PI-II_Data_Analytics/venv/lib/python3.10/site-packages/pandas/core/generic.py:4546\u001b[0m, in \u001b[0;36mNDFrame._drop_axis\u001b[0;34m(self, labels, axis, level, errors, only_slice)\u001b[0m\n\u001b[1;32m   4544\u001b[0m         new_axis \u001b[38;5;241m=\u001b[39m axis\u001b[38;5;241m.\u001b[39mdrop(labels, level\u001b[38;5;241m=\u001b[39mlevel, errors\u001b[38;5;241m=\u001b[39merrors)\n\u001b[1;32m   4545\u001b[0m     \u001b[38;5;28;01melse\u001b[39;00m:\n\u001b[0;32m-> 4546\u001b[0m         new_axis \u001b[38;5;241m=\u001b[39m \u001b[43maxis\u001b[49m\u001b[38;5;241;43m.\u001b[39;49m\u001b[43mdrop\u001b[49m\u001b[43m(\u001b[49m\u001b[43mlabels\u001b[49m\u001b[43m,\u001b[49m\u001b[43m \u001b[49m\u001b[43merrors\u001b[49m\u001b[38;5;241;43m=\u001b[39;49m\u001b[43merrors\u001b[49m\u001b[43m)\u001b[49m\n\u001b[1;32m   4547\u001b[0m     indexer \u001b[38;5;241m=\u001b[39m axis\u001b[38;5;241m.\u001b[39mget_indexer(new_axis)\n\u001b[1;32m   4549\u001b[0m \u001b[38;5;66;03m# Case for non-unique axis\u001b[39;00m\n\u001b[1;32m   4550\u001b[0m \u001b[38;5;28;01melse\u001b[39;00m:\n",
      "File \u001b[0;32m~/projects/PI-II_Data_Analytics/venv/lib/python3.10/site-packages/pandas/core/indexes/base.py:6934\u001b[0m, in \u001b[0;36mIndex.drop\u001b[0;34m(self, labels, errors)\u001b[0m\n\u001b[1;32m   6932\u001b[0m \u001b[38;5;28;01mif\u001b[39;00m mask\u001b[38;5;241m.\u001b[39many():\n\u001b[1;32m   6933\u001b[0m     \u001b[38;5;28;01mif\u001b[39;00m errors \u001b[38;5;241m!=\u001b[39m \u001b[38;5;124m\"\u001b[39m\u001b[38;5;124mignore\u001b[39m\u001b[38;5;124m\"\u001b[39m:\n\u001b[0;32m-> 6934\u001b[0m         \u001b[38;5;28;01mraise\u001b[39;00m \u001b[38;5;167;01mKeyError\u001b[39;00m(\u001b[38;5;124mf\u001b[39m\u001b[38;5;124m\"\u001b[39m\u001b[38;5;132;01m{\u001b[39;00m\u001b[38;5;28mlist\u001b[39m(labels[mask])\u001b[38;5;132;01m}\u001b[39;00m\u001b[38;5;124m not found in axis\u001b[39m\u001b[38;5;124m\"\u001b[39m)\n\u001b[1;32m   6935\u001b[0m     indexer \u001b[38;5;241m=\u001b[39m indexer[\u001b[38;5;241m~\u001b[39mmask]\n\u001b[1;32m   6936\u001b[0m \u001b[38;5;28;01mreturn\u001b[39;00m \u001b[38;5;28mself\u001b[39m\u001b[38;5;241m.\u001b[39mdelete(indexer)\n",
      "\u001b[0;31mKeyError\u001b[0m: \"['Dividends', 'Stock Splits'] not found in axis\""
     ]
    }
   ],
   "source": [
    "# Borrando las columnas 'Dividends' and 'Stock Splits'\n",
    "sp500 = sp500.drop(columns=['Dividends', 'Stock Splits'])\n",
    "\n",
    "sp500.tail()"
   ]
  },
  {
   "cell_type": "code",
   "execution_count": null,
   "metadata": {},
   "outputs": [
    {
     "data": {
      "text/html": [
       "<div>\n",
       "<style scoped>\n",
       "    .dataframe tbody tr th:only-of-type {\n",
       "        vertical-align: middle;\n",
       "    }\n",
       "\n",
       "    .dataframe tbody tr th {\n",
       "        vertical-align: top;\n",
       "    }\n",
       "\n",
       "    .dataframe thead th {\n",
       "        text-align: right;\n",
       "    }\n",
       "</style>\n",
       "<table border=\"1\" class=\"dataframe\">\n",
       "  <thead>\n",
       "    <tr style=\"text-align: right;\">\n",
       "      <th></th>\n",
       "      <th>Open</th>\n",
       "      <th>High</th>\n",
       "      <th>Low</th>\n",
       "      <th>Close</th>\n",
       "      <th>Volume</th>\n",
       "    </tr>\n",
       "  </thead>\n",
       "  <tbody>\n",
       "    <tr>\n",
       "      <th>count</th>\n",
       "      <td>5846.000000</td>\n",
       "      <td>5846.000000</td>\n",
       "      <td>5846.000000</td>\n",
       "      <td>5846.000000</td>\n",
       "      <td>5.846000e+03</td>\n",
       "    </tr>\n",
       "    <tr>\n",
       "      <th>mean</th>\n",
       "      <td>1895.004799</td>\n",
       "      <td>1906.367559</td>\n",
       "      <td>1882.698131</td>\n",
       "      <td>1895.214796</td>\n",
       "      <td>3.309134e+09</td>\n",
       "    </tr>\n",
       "    <tr>\n",
       "      <th>std</th>\n",
       "      <td>983.745073</td>\n",
       "      <td>988.966273</td>\n",
       "      <td>978.075132</td>\n",
       "      <td>983.859283</td>\n",
       "      <td>1.525205e+09</td>\n",
       "    </tr>\n",
       "    <tr>\n",
       "      <th>min</th>\n",
       "      <td>679.280029</td>\n",
       "      <td>695.270020</td>\n",
       "      <td>666.789978</td>\n",
       "      <td>676.530029</td>\n",
       "      <td>3.560700e+08</td>\n",
       "    </tr>\n",
       "    <tr>\n",
       "      <th>25%</th>\n",
       "      <td>1185.417511</td>\n",
       "      <td>1192.290009</td>\n",
       "      <td>1177.950012</td>\n",
       "      <td>1185.575043</td>\n",
       "      <td>1.993242e+09</td>\n",
       "    </tr>\n",
       "    <tr>\n",
       "      <th>50%</th>\n",
       "      <td>1437.619995</td>\n",
       "      <td>1447.409973</td>\n",
       "      <td>1428.789978</td>\n",
       "      <td>1437.845032</td>\n",
       "      <td>3.416465e+09</td>\n",
       "    </tr>\n",
       "    <tr>\n",
       "      <th>75%</th>\n",
       "      <td>2414.255005</td>\n",
       "      <td>2428.705017</td>\n",
       "      <td>2397.467468</td>\n",
       "      <td>2412.632446</td>\n",
       "      <td>4.165180e+09</td>\n",
       "    </tr>\n",
       "    <tr>\n",
       "      <th>max</th>\n",
       "      <td>4804.509766</td>\n",
       "      <td>4818.620117</td>\n",
       "      <td>4780.040039</td>\n",
       "      <td>4796.560059</td>\n",
       "      <td>1.145623e+10</td>\n",
       "    </tr>\n",
       "  </tbody>\n",
       "</table>\n",
       "</div>"
      ],
      "text/plain": [
       "              Open         High          Low        Close        Volume\n",
       "count  5846.000000  5846.000000  5846.000000  5846.000000  5.846000e+03\n",
       "mean   1895.004799  1906.367559  1882.698131  1895.214796  3.309134e+09\n",
       "std     983.745073   988.966273   978.075132   983.859283  1.525205e+09\n",
       "min     679.280029   695.270020   666.789978   676.530029  3.560700e+08\n",
       "25%    1185.417511  1192.290009  1177.950012  1185.575043  1.993242e+09\n",
       "50%    1437.619995  1447.409973  1428.789978  1437.845032  3.416465e+09\n",
       "75%    2414.255005  2428.705017  2397.467468  2412.632446  4.165180e+09\n",
       "max    4804.509766  4818.620117  4780.040039  4796.560059  1.145623e+10"
      ]
     },
     "execution_count": 40,
     "metadata": {},
     "output_type": "execute_result"
    }
   ],
   "source": [
    "# Obteniendo información del set I\n",
    "sp500.describe()"
   ]
  },
  {
   "cell_type": "code",
   "execution_count": null,
   "metadata": {},
   "outputs": [
    {
     "name": "stdout",
     "output_type": "stream",
     "text": [
      "<class 'pandas.core.frame.DataFrame'>\n",
      "DatetimeIndex: 5846 entries, 2000-01-03 00:00:00-05:00 to 2023-03-28 00:00:00-04:00\n",
      "Data columns (total 5 columns):\n",
      " #   Column  Non-Null Count  Dtype  \n",
      "---  ------  --------------  -----  \n",
      " 0   Open    5846 non-null   float64\n",
      " 1   High    5846 non-null   float64\n",
      " 2   Low     5846 non-null   float64\n",
      " 3   Close   5846 non-null   float64\n",
      " 4   Volume  5846 non-null   int64  \n",
      "dtypes: float64(4), int64(1)\n",
      "memory usage: 274.0 KB\n"
     ]
    }
   ],
   "source": [
    "# Obteniendo información del set II\n",
    "sp500.info()"
   ]
  },
  {
   "cell_type": "code",
   "execution_count": null,
   "metadata": {},
   "outputs": [
    {
     "data": {
      "text/html": [
       "<div>\n",
       "<style scoped>\n",
       "    .dataframe tbody tr th:only-of-type {\n",
       "        vertical-align: middle;\n",
       "    }\n",
       "\n",
       "    .dataframe tbody tr th {\n",
       "        vertical-align: top;\n",
       "    }\n",
       "\n",
       "    .dataframe thead th {\n",
       "        text-align: right;\n",
       "    }\n",
       "</style>\n",
       "<table border=\"1\" class=\"dataframe\">\n",
       "  <thead>\n",
       "    <tr style=\"text-align: right;\">\n",
       "      <th></th>\n",
       "      <th>Open</th>\n",
       "      <th>High</th>\n",
       "      <th>Low</th>\n",
       "      <th>Close</th>\n",
       "      <th>Volume</th>\n",
       "    </tr>\n",
       "    <tr>\n",
       "      <th>Date</th>\n",
       "      <th></th>\n",
       "      <th></th>\n",
       "      <th></th>\n",
       "      <th></th>\n",
       "      <th></th>\n",
       "    </tr>\n",
       "  </thead>\n",
       "  <tbody>\n",
       "  </tbody>\n",
       "</table>\n",
       "</div>"
      ],
      "text/plain": [
       "Empty DataFrame\n",
       "Columns: [Open, High, Low, Close, Volume]\n",
       "Index: []"
      ]
     },
     "execution_count": 42,
     "metadata": {},
     "output_type": "execute_result"
    }
   ],
   "source": [
    "# Verificando valores duplicados\n",
    "sp500[sp500.duplicated()] \n"
   ]
  },
  {
   "cell_type": "code",
   "execution_count": null,
   "metadata": {},
   "outputs": [
    {
     "data": {
      "text/plain": [
       "Open      0\n",
       "High      0\n",
       "Low       0\n",
       "Close     0\n",
       "Volume    0\n",
       "dtype: int64"
      ]
     },
     "execution_count": 43,
     "metadata": {},
     "output_type": "execute_result"
    }
   ],
   "source": [
    "# Verificando valores nulos\n",
    "\n",
    "sp500.isnull().sum().sort_values(ascending=False)"
   ]
  },
  {
   "cell_type": "code",
   "execution_count": null,
   "metadata": {},
   "outputs": [],
   "source": [
    "# Calculando la media móvil de 50 y de 200\n",
    "sp500['50ma'] = sp500['Close'].rolling(window=50).mean()\n",
    "sp500['200ma'] = sp500['Close'].rolling(window=200).mean()"
   ]
  },
  {
   "cell_type": "code",
   "execution_count": null,
   "metadata": {},
   "outputs": [
    {
     "data": {
      "image/png": "[encoded data removed]",
      "text/plain": [
       "<Figure size 1500x500 with 1 Axes>"
      ]
     },
     "metadata": {
      "image/png": {
       "height": 450,
       "width": 1227
      }
     },
     "output_type": "display_data"
    }
   ],
   "source": [
    "# Graficando la información para ver las medias móviles\n",
    "plt.figure(figsize=(15, 5))\n",
    "plt.title('S&P 500 Close Price with 200 and 50-Day Moving Average')\n",
    "plt.plot(sp500['Close'])\n",
    "plt.plot(sp500['50ma'])\n",
    "plt.plot(sp500['200ma'])\n",
    "plt.legend(['Close', '50MA', '200MA'])\n",
    "plt.show()"
   ]
  },
  {
   "cell_type": "code",
   "execution_count": null,
   "metadata": {},
   "outputs": [
    {
     "data": {
      "text/html": [
       "<div>\n",
       "<style scoped>\n",
       "    .dataframe tbody tr th:only-of-type {\n",
       "        vertical-align: middle;\n",
       "    }\n",
       "\n",
       "    .dataframe tbody tr th {\n",
       "        vertical-align: top;\n",
       "    }\n",
       "\n",
       "    .dataframe thead th {\n",
       "        text-align: right;\n",
       "    }\n",
       "</style>\n",
       "<table border=\"1\" class=\"dataframe\">\n",
       "  <thead>\n",
       "    <tr style=\"text-align: right;\">\n",
       "      <th></th>\n",
       "      <th>Open</th>\n",
       "      <th>High</th>\n",
       "      <th>Low</th>\n",
       "      <th>Close</th>\n",
       "      <th>Volume</th>\n",
       "      <th>50ma</th>\n",
       "      <th>200ma</th>\n",
       "      <th>Return</th>\n",
       "    </tr>\n",
       "    <tr>\n",
       "      <th>Date</th>\n",
       "      <th></th>\n",
       "      <th></th>\n",
       "      <th></th>\n",
       "      <th></th>\n",
       "      <th></th>\n",
       "      <th></th>\n",
       "      <th></th>\n",
       "      <th></th>\n",
       "    </tr>\n",
       "  </thead>\n",
       "  <tbody>\n",
       "    <tr>\n",
       "      <th>2023-03-22 00:00:00-04:00</th>\n",
       "      <td>4002.040039</td>\n",
       "      <td>4039.489990</td>\n",
       "      <td>3936.169922</td>\n",
       "      <td>3936.969971</td>\n",
       "      <td>4533010000</td>\n",
       "      <td>4013.503208</td>\n",
       "      <td>3934.278164</td>\n",
       "      <td>-0.016463</td>\n",
       "    </tr>\n",
       "    <tr>\n",
       "      <th>2023-03-23 00:00:00-04:00</th>\n",
       "      <td>3959.209961</td>\n",
       "      <td>4007.659912</td>\n",
       "      <td>3919.050049</td>\n",
       "      <td>3948.719971</td>\n",
       "      <td>4991600000</td>\n",
       "      <td>4014.092607</td>\n",
       "      <td>3933.414613</td>\n",
       "      <td>0.002985</td>\n",
       "    </tr>\n",
       "    <tr>\n",
       "      <th>2023-03-24 00:00:00-04:00</th>\n",
       "      <td>3939.209961</td>\n",
       "      <td>3972.739990</td>\n",
       "      <td>3909.159912</td>\n",
       "      <td>3970.989990</td>\n",
       "      <td>4583970000</td>\n",
       "      <td>4014.120205</td>\n",
       "      <td>3932.466162</td>\n",
       "      <td>0.005640</td>\n",
       "    </tr>\n",
       "    <tr>\n",
       "      <th>2023-03-27 00:00:00-04:00</th>\n",
       "      <td>3982.929932</td>\n",
       "      <td>4003.830078</td>\n",
       "      <td>3970.489990</td>\n",
       "      <td>3977.530029</td>\n",
       "      <td>4233540000</td>\n",
       "      <td>4014.007407</td>\n",
       "      <td>3931.774962</td>\n",
       "      <td>0.001647</td>\n",
       "    </tr>\n",
       "    <tr>\n",
       "      <th>2023-03-28 00:00:00-04:00</th>\n",
       "      <td>3974.129883</td>\n",
       "      <td>3979.199951</td>\n",
       "      <td>3951.530029</td>\n",
       "      <td>3971.270020</td>\n",
       "      <td>4014600000</td>\n",
       "      <td>4013.451006</td>\n",
       "      <td>3931.542212</td>\n",
       "      <td>-0.001574</td>\n",
       "    </tr>\n",
       "  </tbody>\n",
       "</table>\n",
       "</div>"
      ],
      "text/plain": [
       "                                  Open         High          Low        Close  \\\n",
       "Date                                                                            \n",
       "2023-03-22 00:00:00-04:00  4002.040039  4039.489990  3936.169922  3936.969971   \n",
       "2023-03-23 00:00:00-04:00  3959.209961  4007.659912  3919.050049  3948.719971   \n",
       "2023-03-24 00:00:00-04:00  3939.209961  3972.739990  3909.159912  3970.989990   \n",
       "2023-03-27 00:00:00-04:00  3982.929932  4003.830078  3970.489990  3977.530029   \n",
       "2023-03-28 00:00:00-04:00  3974.129883  3979.199951  3951.530029  3971.270020   \n",
       "\n",
       "                               Volume         50ma        200ma    Return  \n",
       "Date                                                                       \n",
       "2023-03-22 00:00:00-04:00  4533010000  4013.503208  3934.278164 -0.016463  \n",
       "2023-03-23 00:00:00-04:00  4991600000  4014.092607  3933.414613  0.002985  \n",
       "2023-03-24 00:00:00-04:00  4583970000  4014.120205  3932.466162  0.005640  \n",
       "2023-03-27 00:00:00-04:00  4233540000  4014.007407  3931.774962  0.001647  \n",
       "2023-03-28 00:00:00-04:00  4014600000  4013.451006  3931.542212 -0.001574  "
      ]
     },
     "execution_count": 46,
     "metadata": {},
     "output_type": "execute_result"
    }
   ],
   "source": [
    "# Calculando el rendimiento diario del precio de cierre y agregando la columna 'return'\n",
    "sp500['Return'] = sp500['Close'].pct_change()\n",
    "\n",
    "sp500.tail()"
   ]
  },
  {
   "cell_type": "code",
   "execution_count": null,
   "metadata": {},
   "outputs": [
    {
     "data": {
      "image/png": "[encoded data removed]",
      "text/plain": [
       "<Figure size 1500x500 with 1 Axes>"
      ]
     },
     "metadata": {
      "image/png": {
       "height": 450,
       "width": 1234
      }
     },
     "output_type": "display_data"
    }
   ],
   "source": [
    "# Graficando el rendimiento diario\n",
    "plt.figure(figsize=(15, 5))\n",
    "plt.title('S&P 500 Daily Return')\n",
    "plt.plot(sp500['Return'])\n",
    "plt.show()"
   ]
  },
  {
   "cell_type": "code",
   "execution_count": null,
   "metadata": {},
   "outputs": [
    {
     "data": {
      "image/png": "[encoded data removed]",
      "text/plain": [
       "<Figure size 1500x500 with 1 Axes>"
      ]
     },
     "metadata": {
      "image/png": {
       "height": 450,
       "width": 1218
      }
     },
     "output_type": "display_data"
    }
   ],
   "source": [
    "# Trazando el rendimiento diario usando un histograma\n",
    "plt.figure(figsize=(15, 5))\n",
    "plt.title('S&P 500 Daily Return')\n",
    "sp500['Return'].hist(bins=200, grid=False)\n",
    "plt.show()"
   ]
  },
  {
   "cell_type": "code",
   "execution_count": null,
   "metadata": {},
   "outputs": [
    {
     "data": {
      "text/html": [
       "<div>\n",
       "<style scoped>\n",
       "    .dataframe tbody tr th:only-of-type {\n",
       "        vertical-align: middle;\n",
       "    }\n",
       "\n",
       "    .dataframe tbody tr th {\n",
       "        vertical-align: top;\n",
       "    }\n",
       "\n",
       "    .dataframe thead th {\n",
       "        text-align: right;\n",
       "    }\n",
       "</style>\n",
       "<table border=\"1\" class=\"dataframe\">\n",
       "  <thead>\n",
       "    <tr style=\"text-align: right;\">\n",
       "      <th></th>\n",
       "      <th>Date</th>\n",
       "      <th>Open</th>\n",
       "      <th>High</th>\n",
       "      <th>Low</th>\n",
       "      <th>Close</th>\n",
       "      <th>Volume</th>\n",
       "      <th>50ma</th>\n",
       "      <th>200ma</th>\n",
       "      <th>Return</th>\n",
       "    </tr>\n",
       "  </thead>\n",
       "  <tbody>\n",
       "    <tr>\n",
       "      <th>5841</th>\n",
       "      <td>2023-03-22 00:00:00-04:00</td>\n",
       "      <td>4002.040039</td>\n",
       "      <td>4039.489990</td>\n",
       "      <td>3936.169922</td>\n",
       "      <td>3936.969971</td>\n",
       "      <td>4533010000</td>\n",
       "      <td>4013.503208</td>\n",
       "      <td>3934.278164</td>\n",
       "      <td>-0.016463</td>\n",
       "    </tr>\n",
       "    <tr>\n",
       "      <th>5842</th>\n",
       "      <td>2023-03-23 00:00:00-04:00</td>\n",
       "      <td>3959.209961</td>\n",
       "      <td>4007.659912</td>\n",
       "      <td>3919.050049</td>\n",
       "      <td>3948.719971</td>\n",
       "      <td>4991600000</td>\n",
       "      <td>4014.092607</td>\n",
       "      <td>3933.414613</td>\n",
       "      <td>0.002985</td>\n",
       "    </tr>\n",
       "    <tr>\n",
       "      <th>5843</th>\n",
       "      <td>2023-03-24 00:00:00-04:00</td>\n",
       "      <td>3939.209961</td>\n",
       "      <td>3972.739990</td>\n",
       "      <td>3909.159912</td>\n",
       "      <td>3970.989990</td>\n",
       "      <td>4583970000</td>\n",
       "      <td>4014.120205</td>\n",
       "      <td>3932.466162</td>\n",
       "      <td>0.005640</td>\n",
       "    </tr>\n",
       "    <tr>\n",
       "      <th>5844</th>\n",
       "      <td>2023-03-27 00:00:00-04:00</td>\n",
       "      <td>3982.929932</td>\n",
       "      <td>4003.830078</td>\n",
       "      <td>3970.489990</td>\n",
       "      <td>3977.530029</td>\n",
       "      <td>4233540000</td>\n",
       "      <td>4014.007407</td>\n",
       "      <td>3931.774962</td>\n",
       "      <td>0.001647</td>\n",
       "    </tr>\n",
       "    <tr>\n",
       "      <th>5845</th>\n",
       "      <td>2023-03-28 00:00:00-04:00</td>\n",
       "      <td>3974.129883</td>\n",
       "      <td>3979.199951</td>\n",
       "      <td>3951.530029</td>\n",
       "      <td>3971.270020</td>\n",
       "      <td>4014600000</td>\n",
       "      <td>4013.451006</td>\n",
       "      <td>3931.542212</td>\n",
       "      <td>-0.001574</td>\n",
       "    </tr>\n",
       "  </tbody>\n",
       "</table>\n",
       "</div>"
      ],
      "text/plain": [
       "                          Date         Open         High          Low  \\\n",
       "5841 2023-03-22 00:00:00-04:00  4002.040039  4039.489990  3936.169922   \n",
       "5842 2023-03-23 00:00:00-04:00  3959.209961  4007.659912  3919.050049   \n",
       "5843 2023-03-24 00:00:00-04:00  3939.209961  3972.739990  3909.159912   \n",
       "5844 2023-03-27 00:00:00-04:00  3982.929932  4003.830078  3970.489990   \n",
       "5845 2023-03-28 00:00:00-04:00  3974.129883  3979.199951  3951.530029   \n",
       "\n",
       "            Close      Volume         50ma        200ma    Return  \n",
       "5841  3936.969971  4533010000  4013.503208  3934.278164 -0.016463  \n",
       "5842  3948.719971  4991600000  4014.092607  3933.414613  0.002985  \n",
       "5843  3970.989990  4583970000  4014.120205  3932.466162  0.005640  \n",
       "5844  3977.530029  4233540000  4014.007407  3931.774962  0.001647  \n",
       "5845  3971.270020  4014600000  4013.451006  3931.542212 -0.001574  "
      ]
     },
     "execution_count": 49,
     "metadata": {},
     "output_type": "execute_result"
    }
   ],
   "source": [
    "# Convirtiendo la columna 'date' como tipo 'datetime'\n",
    "'''\n",
    "sp500.reset_index(inplace=True)\n",
    "sp500['Date'] = pd.to_datetime(sp500['Date'])\n",
    "sp500.set_index(sp500['Date'],inplace=True)\n",
    "sp500.drop(columns='Date', inplace=True)\n",
    "sp500.tail()\n",
    "'''\n",
    "# La variable Date pasa a ser una columna\n",
    "sp500 = sp500.reset_index()\n",
    "# Conversion del tipo str a datetime de la varibale Date\n",
    "sp500['Date'] = pd.to_datetime(sp500['Date'])\n",
    "\n",
    "sp500.tail()\n"
   ]
  },
  {
   "cell_type": "code",
   "execution_count": null,
   "metadata": {},
   "outputs": [
    {
     "name": "stdout",
     "output_type": "stream",
     "text": [
      "<class 'pandas.core.frame.DataFrame'>\n",
      "RangeIndex: 5846 entries, 0 to 5845\n",
      "Data columns (total 9 columns):\n",
      " #   Column  Non-Null Count  Dtype                           \n",
      "---  ------  --------------  -----                           \n",
      " 0   Date    5846 non-null   datetime64[ns, America/New_York]\n",
      " 1   Open    5846 non-null   float64                         \n",
      " 2   High    5846 non-null   float64                         \n",
      " 3   Low     5846 non-null   float64                         \n",
      " 4   Close   5846 non-null   float64                         \n",
      " 5   Volume  5846 non-null   int64                           \n",
      " 6   50ma    5797 non-null   float64                         \n",
      " 7   200ma   5647 non-null   float64                         \n",
      " 8   Return  5845 non-null   float64                         \n",
      "dtypes: datetime64[ns, America/New_York](1), float64(7), int64(1)\n",
      "memory usage: 411.2 KB\n"
     ]
    }
   ],
   "source": [
    "sp500.info()"
   ]
  },
  {
   "cell_type": "code",
   "execution_count": null,
   "metadata": {},
   "outputs": [],
   "source": [
    "# Guardando el DataFrame en un archivo CSV\n",
    "sp500.to_csv('data/sp500_index.csv', index=False)"
   ]
  },
  {
   "cell_type": "code",
   "execution_count": null,
   "metadata": {},
   "outputs": [
    {
     "data": {
      "text/html": [
       "<div>\n",
       "<style scoped>\n",
       "    .dataframe tbody tr th:only-of-type {\n",
       "        vertical-align: middle;\n",
       "    }\n",
       "\n",
       "    .dataframe tbody tr th {\n",
       "        vertical-align: top;\n",
       "    }\n",
       "\n",
       "    .dataframe thead th {\n",
       "        text-align: right;\n",
       "    }\n",
       "</style>\n",
       "<table border=\"1\" class=\"dataframe\">\n",
       "  <thead>\n",
       "    <tr style=\"text-align: right;\">\n",
       "      <th></th>\n",
       "      <th>Date</th>\n",
       "      <th>Open</th>\n",
       "      <th>High</th>\n",
       "      <th>Low</th>\n",
       "      <th>Close</th>\n",
       "      <th>Volume</th>\n",
       "      <th>50ma</th>\n",
       "      <th>200ma</th>\n",
       "      <th>Return</th>\n",
       "    </tr>\n",
       "  </thead>\n",
       "  <tbody>\n",
       "    <tr>\n",
       "      <th>0</th>\n",
       "      <td>2000-01-03 00:00:00-05:00</td>\n",
       "      <td>1469.250000</td>\n",
       "      <td>1478.000000</td>\n",
       "      <td>1438.359985</td>\n",
       "      <td>1455.219971</td>\n",
       "      <td>931800000</td>\n",
       "      <td>NaN</td>\n",
       "      <td>NaN</td>\n",
       "      <td>NaN</td>\n",
       "    </tr>\n",
       "    <tr>\n",
       "      <th>1</th>\n",
       "      <td>2000-01-04 00:00:00-05:00</td>\n",
       "      <td>1455.219971</td>\n",
       "      <td>1455.219971</td>\n",
       "      <td>1397.430054</td>\n",
       "      <td>1399.420044</td>\n",
       "      <td>1009000000</td>\n",
       "      <td>NaN</td>\n",
       "      <td>NaN</td>\n",
       "      <td>-0.038345</td>\n",
       "    </tr>\n",
       "    <tr>\n",
       "      <th>2</th>\n",
       "      <td>2000-01-05 00:00:00-05:00</td>\n",
       "      <td>1399.420044</td>\n",
       "      <td>1413.270020</td>\n",
       "      <td>1377.680054</td>\n",
       "      <td>1402.109985</td>\n",
       "      <td>1085500000</td>\n",
       "      <td>NaN</td>\n",
       "      <td>NaN</td>\n",
       "      <td>0.001922</td>\n",
       "    </tr>\n",
       "    <tr>\n",
       "      <th>3</th>\n",
       "      <td>2000-01-06 00:00:00-05:00</td>\n",
       "      <td>1402.109985</td>\n",
       "      <td>1411.900024</td>\n",
       "      <td>1392.099976</td>\n",
       "      <td>1403.449951</td>\n",
       "      <td>1092300000</td>\n",
       "      <td>NaN</td>\n",
       "      <td>NaN</td>\n",
       "      <td>0.000956</td>\n",
       "    </tr>\n",
       "    <tr>\n",
       "      <th>4</th>\n",
       "      <td>2000-01-07 00:00:00-05:00</td>\n",
       "      <td>1403.449951</td>\n",
       "      <td>1441.469971</td>\n",
       "      <td>1400.729980</td>\n",
       "      <td>1441.469971</td>\n",
       "      <td>1225200000</td>\n",
       "      <td>NaN</td>\n",
       "      <td>NaN</td>\n",
       "      <td>0.027090</td>\n",
       "    </tr>\n",
       "  </tbody>\n",
       "</table>\n",
       "</div>"
      ],
      "text/plain": [
       "                       Date         Open         High          Low  \\\n",
       "0 2000-01-03 00:00:00-05:00  1469.250000  1478.000000  1438.359985   \n",
       "1 2000-01-04 00:00:00-05:00  1455.219971  1455.219971  1397.430054   \n",
       "2 2000-01-05 00:00:00-05:00  1399.420044  1413.270020  1377.680054   \n",
       "3 2000-01-06 00:00:00-05:00  1402.109985  1411.900024  1392.099976   \n",
       "4 2000-01-07 00:00:00-05:00  1403.449951  1441.469971  1400.729980   \n",
       "\n",
       "         Close      Volume  50ma  200ma    Return  \n",
       "0  1455.219971   931800000   NaN    NaN       NaN  \n",
       "1  1399.420044  1009000000   NaN    NaN -0.038345  \n",
       "2  1402.109985  1085500000   NaN    NaN  0.001922  \n",
       "3  1403.449951  1092300000   NaN    NaN  0.000956  \n",
       "4  1441.469971  1225200000   NaN    NaN  0.027090  "
      ]
     },
     "execution_count": 52,
     "metadata": {},
     "output_type": "execute_result"
    }
   ],
   "source": [
    "#values = sp500.loc['2023-02-13':'2023-02-17', 'SP500']\n",
    "sp500.head()\n"
   ]
  },
  {
   "cell_type": "code",
   "execution_count": null,
   "metadata": {},
   "outputs": [
    {
     "data": {
      "application/vnd.plotly.v1+json": {
       "config": {
        "plotlyServerURL": "https://plot.ly"
       },
       "data": [
        {
         "alignmentgroup": "True",
         "hovertemplate": "Up/Down=Down<br>Date=%{x}<br>Close=%{y}<extra></extra>",
         "legendgroup": "Down",
         "marker": {
          "color": "rgb(200, 50, 30)",
          "pattern": {
           "shape": ""
          }
         },
         "name": "Down",
         "offsetgroup": "Down",
         "orientation": "v",
         "showlegend": true,
         "textposition": "auto",
         "type": "bar",
         "x": [
          "2000-12-31T00:00:00-05:00",
          "2001-12-31T00:00:00-05:00",
          "2002-12-31T00:00:00-05:00",
          "2008-12-31T00:00:00-05:00",
          "2011-12-31T00:00:00-05:00",
          "2015-12-31T00:00:00-05:00",
          "2018-12-31T00:00:00-05:00",
          "2022-12-31T00:00:00-05:00"
         ],
         "xaxis": "x",
         "y": [
          null,
          -13.042693172742602,
          -23.365963957103563,
          -38.485793060906715,
          -0.0031836663936912757,
          -0.7265997205823549,
          -6.2372598496206795,
          -19.442827203429268
         ],
         "yaxis": "y"
        },
        {
         "alignmentgroup": "True",
         "hovertemplate": "Up/Down=Up<br>Date=%{x}<br>Close=%{y}<extra></extra>",
         "legendgroup": "Up",
         "marker": {
          "color": "rgb(50, 200, 30)",
          "pattern": {
           "shape": ""
          }
         },
         "name": "Up",
         "offsetgroup": "Up",
         "orientation": "v",
         "showlegend": true,
         "textposition": "auto",
         "type": "bar",
         "x": [
          "2003-12-31T00:00:00-05:00",
          "2004-12-31T00:00:00-05:00",
          "2005-12-31T00:00:00-05:00",
          "2006-12-31T00:00:00-05:00",
          "2007-12-31T00:00:00-05:00",
          "2009-12-31T00:00:00-05:00",
          "2010-12-31T00:00:00-05:00",
          "2012-12-31T00:00:00-05:00",
          "2013-12-31T00:00:00-05:00",
          "2014-12-31T00:00:00-05:00",
          "2016-12-31T00:00:00-05:00",
          "2017-12-31T00:00:00-05:00",
          "2019-12-31T00:00:00-05:00",
          "2020-12-31T00:00:00-05:00",
          "2021-12-31T00:00:00-05:00",
          "2023-12-31T00:00:00-05:00"
         ],
         "xaxis": "x",
         "y": [
          26.38039993281984,
          8.993452410946755,
          3.0010226581274946,
          13.619431738260701,
          3.5295730663479574,
          23.45419048834072,
          12.782713853760175,
          13.40569092662105,
          29.601249573324353,
          11.390633786748117,
          9.535022667283656,
          19.419965523287928,
          28.878070225158446,
          16.258923055706177,
          26.89273866137125,
          3.431957794797502
         ],
         "yaxis": "y"
        }
       ],
       "layout": {
        "bargap": 0.05,
        "barmode": "relative",
        "height": 500,
        "legend": {
         "orientation": "h",
         "title": {
          "text": "Up/Down"
         },
         "tracegroupgap": 0,
         "x": 1,
         "xanchor": "right",
         "y": 1,
         "yanchor": "bottom"
        },
        "margin": {
         "t": 60
        },
        "plot_bgcolor": "white",
        "template": {
         "data": {
          "bar": [
           {
            "error_x": {
             "color": "rgb(36,36,36)"
            },
            "error_y": {
             "color": "rgb(36,36,36)"
            },
            "marker": {
             "line": {
              "color": "rgb(234,234,242)",
              "width": 0.5
             },
             "pattern": {
              "fillmode": "overlay",
              "size": 10,
              "solidity": 0.2
             }
            },
            "type": "bar"
           }
          ],
          "barpolar": [
           {
            "marker": {
             "line": {
              "color": "rgb(234,234,242)",
              "width": 0.5
             },
             "pattern": {
              "fillmode": "overlay",
              "size": 10,
              "solidity": 0.2
             }
            },
            "type": "barpolar"
           }
          ],
          "carpet": [
           {
            "aaxis": {
             "endlinecolor": "rgb(36,36,36)",
             "gridcolor": "white",
             "linecolor": "white",
             "minorgridcolor": "white",
             "startlinecolor": "rgb(36,36,36)"
            },
            "baxis": {
             "endlinecolor": "rgb(36,36,36)",
             "gridcolor": "white",
             "linecolor": "white",
             "minorgridcolor": "white",
             "startlinecolor": "rgb(36,36,36)"
            },
            "type": "carpet"
           }
          ],
          "choropleth": [
           {
            "colorbar": {
             "outlinewidth": 0,
             "tickcolor": "rgb(36,36,36)",
             "ticklen": 8,
             "ticks": "outside",
             "tickwidth": 2
            },
            "type": "choropleth"
           }
          ],
          "contour": [
           {
            "colorbar": {
             "outlinewidth": 0,
             "tickcolor": "rgb(36,36,36)",
             "ticklen": 8,
             "ticks": "outside",
             "tickwidth": 2
            },
            "colorscale": [
             [
              0,
              "rgb(2,4,25)"
             ],
             [
              0.06274509803921569,
              "rgb(24,15,41)"
             ],
             [
              0.12549019607843137,
              "rgb(47,23,57)"
             ],
             [
              0.18823529411764706,
              "rgb(71,28,72)"
             ],
             [
              0.25098039215686274,
              "rgb(97,30,82)"
             ],
             [
              0.3137254901960784,
              "rgb(123,30,89)"
             ],
             [
              0.3764705882352941,
              "rgb(150,27,91)"
             ],
             [
              0.4392156862745098,
              "rgb(177,22,88)"
             ],
             [
              0.5019607843137255,
              "rgb(203,26,79)"
             ],
             [
              0.5647058823529412,
              "rgb(223,47,67)"
             ],
             [
              0.6274509803921569,
              "rgb(236,76,61)"
             ],
             [
              0.6901960784313725,
              "rgb(242,107,73)"
             ],
             [
              0.7529411764705882,
              "rgb(244,135,95)"
             ],
             [
              0.8156862745098039,
              "rgb(245,162,122)"
             ],
             [
              0.8784313725490196,
              "rgb(246,188,153)"
             ],
             [
              0.9411764705882353,
              "rgb(247,212,187)"
             ],
             [
              1,
              "rgb(250,234,220)"
             ]
            ],
            "type": "contour"
           }
          ],
          "contourcarpet": [
           {
            "colorbar": {
             "outlinewidth": 0,
             "tickcolor": "rgb(36,36,36)",
             "ticklen": 8,
             "ticks": "outside",
             "tickwidth": 2
            },
            "type": "contourcarpet"
           }
          ],
          "heatmap": [
           {
            "colorbar": {
             "outlinewidth": 0,
             "tickcolor": "rgb(36,36,36)",
             "ticklen": 8,
             "ticks": "outside",
             "tickwidth": 2
            },
            "colorscale": [
             [
              0,
              "rgb(2,4,25)"
             ],
             [
              0.06274509803921569,
              "rgb(24,15,41)"
             ],
             [
              0.12549019607843137,
              "rgb(47,23,57)"
             ],
             [
              0.18823529411764706,
              "rgb(71,28,72)"
             ],
             [
              0.25098039215686274,
              "rgb(97,30,82)"
             ],
             [
              0.3137254901960784,
              "rgb(123,30,89)"
             ],
             [
              0.3764705882352941,
              "rgb(150,27,91)"
             ],
             [
              0.4392156862745098,
              "rgb(177,22,88)"
             ],
             [
              0.5019607843137255,
              "rgb(203,26,79)"
             ],
             [
              0.5647058823529412,
              "rgb(223,47,67)"
             ],
             [
              0.6274509803921569,
              "rgb(236,76,61)"
             ],
             [
              0.6901960784313725,
              "rgb(242,107,73)"
             ],
             [
              0.7529411764705882,
              "rgb(244,135,95)"
             ],
             [
              0.8156862745098039,
              "rgb(245,162,122)"
             ],
             [
              0.8784313725490196,
              "rgb(246,188,153)"
             ],
             [
              0.9411764705882353,
              "rgb(247,212,187)"
             ],
             [
              1,
              "rgb(250,234,220)"
             ]
            ],
            "type": "heatmap"
           }
          ],
          "heatmapgl": [
           {
            "colorbar": {
             "outlinewidth": 0,
             "tickcolor": "rgb(36,36,36)",
             "ticklen": 8,
             "ticks": "outside",
             "tickwidth": 2
            },
            "colorscale": [
             [
              0,
              "rgb(2,4,25)"
             ],
             [
              0.06274509803921569,
              "rgb(24,15,41)"
             ],
             [
              0.12549019607843137,
              "rgb(47,23,57)"
             ],
             [
              0.18823529411764706,
              "rgb(71,28,72)"
             ],
             [
              0.25098039215686274,
              "rgb(97,30,82)"
             ],
             [
              0.3137254901960784,
              "rgb(123,30,89)"
             ],
             [
              0.3764705882352941,
              "rgb(150,27,91)"
             ],
             [
              0.4392156862745098,
              "rgb(177,22,88)"
             ],
             [
              0.5019607843137255,
              "rgb(203,26,79)"
             ],
             [
              0.5647058823529412,
              "rgb(223,47,67)"
             ],
             [
              0.6274509803921569,
              "rgb(236,76,61)"
             ],
             [
              0.6901960784313725,
              "rgb(242,107,73)"
             ],
             [
              0.7529411764705882,
              "rgb(244,135,95)"
             ],
             [
              0.8156862745098039,
              "rgb(245,162,122)"
             ],
             [
              0.8784313725490196,
              "rgb(246,188,153)"
             ],
             [
              0.9411764705882353,
              "rgb(247,212,187)"
             ],
             [
              1,
              "rgb(250,234,220)"
             ]
            ],
            "type": "heatmapgl"
           }
          ],
          "histogram": [
           {
            "marker": {
             "pattern": {
              "fillmode": "overlay",
              "size": 10,
              "solidity": 0.2
             }
            },
            "type": "histogram"
           }
          ],
          "histogram2d": [
           {
            "colorbar": {
             "outlinewidth": 0,
             "tickcolor": "rgb(36,36,36)",
             "ticklen": 8,
             "ticks": "outside",
             "tickwidth": 2
            },
            "colorscale": [
             [
              0,
              "rgb(2,4,25)"
             ],
             [
              0.06274509803921569,
              "rgb(24,15,41)"
             ],
             [
              0.12549019607843137,
              "rgb(47,23,57)"
             ],
             [
              0.18823529411764706,
              "rgb(71,28,72)"
             ],
             [
              0.25098039215686274,
              "rgb(97,30,82)"
             ],
             [
              0.3137254901960784,
              "rgb(123,30,89)"
             ],
             [
              0.3764705882352941,
              "rgb(150,27,91)"
             ],
             [
              0.4392156862745098,
              "rgb(177,22,88)"
             ],
             [
              0.5019607843137255,
              "rgb(203,26,79)"
             ],
             [
              0.5647058823529412,
              "rgb(223,47,67)"
             ],
             [
              0.6274509803921569,
              "rgb(236,76,61)"
             ],
             [
              0.6901960784313725,
              "rgb(242,107,73)"
             ],
             [
              0.7529411764705882,
              "rgb(244,135,95)"
             ],
             [
              0.8156862745098039,
              "rgb(245,162,122)"
             ],
             [
              0.8784313725490196,
              "rgb(246,188,153)"
             ],
             [
              0.9411764705882353,
              "rgb(247,212,187)"
             ],
             [
              1,
              "rgb(250,234,220)"
             ]
            ],
            "type": "histogram2d"
           }
          ],
          "histogram2dcontour": [
           {
            "colorbar": {
             "outlinewidth": 0,
             "tickcolor": "rgb(36,36,36)",
             "ticklen": 8,
             "ticks": "outside",
             "tickwidth": 2
            },
            "colorscale": [
             [
              0,
              "rgb(2,4,25)"
             ],
             [
              0.06274509803921569,
              "rgb(24,15,41)"
             ],
             [
              0.12549019607843137,
              "rgb(47,23,57)"
             ],
             [
              0.18823529411764706,
              "rgb(71,28,72)"
             ],
             [
              0.25098039215686274,
              "rgb(97,30,82)"
             ],
             [
              0.3137254901960784,
              "rgb(123,30,89)"
             ],
             [
              0.3764705882352941,
              "rgb(150,27,91)"
             ],
             [
              0.4392156862745098,
              "rgb(177,22,88)"
             ],
             [
              0.5019607843137255,
              "rgb(203,26,79)"
             ],
             [
              0.5647058823529412,
              "rgb(223,47,67)"
             ],
             [
              0.6274509803921569,
              "rgb(236,76,61)"
             ],
             [
              0.6901960784313725,
              "rgb(242,107,73)"
             ],
             [
              0.7529411764705882,
              "rgb(244,135,95)"
             ],
             [
              0.8156862745098039,
              "rgb(245,162,122)"
             ],
             [
              0.8784313725490196,
              "rgb(246,188,153)"
             ],
             [
              0.9411764705882353,
              "rgb(247,212,187)"
             ],
             [
              1,
              "rgb(250,234,220)"
             ]
            ],
            "type": "histogram2dcontour"
           }
          ],
          "mesh3d": [
           {
            "colorbar": {
             "outlinewidth": 0,
             "tickcolor": "rgb(36,36,36)",
             "ticklen": 8,
             "ticks": "outside",
             "tickwidth": 2
            },
            "type": "mesh3d"
           }
          ],
          "parcoords": [
           {
            "line": {
             "colorbar": {
              "outlinewidth": 0,
              "tickcolor": "rgb(36,36,36)",
              "ticklen": 8,
              "ticks": "outside",
              "tickwidth": 2
             }
            },
            "type": "parcoords"
           }
          ],
          "pie": [
           {
            "automargin": true,
            "type": "pie"
           }
          ],
          "scatter": [
           {
            "fillpattern": {
             "fillmode": "overlay",
             "size": 10,
             "solidity": 0.2
            },
            "type": "scatter"
           }
          ],
          "scatter3d": [
           {
            "line": {
             "colorbar": {
              "outlinewidth": 0,
              "tickcolor": "rgb(36,36,36)",
              "ticklen": 8,
              "ticks": "outside",
              "tickwidth": 2
             }
            },
            "marker": {
             "colorbar": {
              "outlinewidth": 0,
              "tickcolor": "rgb(36,36,36)",
              "ticklen": 8,
              "ticks": "outside",
              "tickwidth": 2
             }
            },
            "type": "scatter3d"
           }
          ],
          "scattercarpet": [
           {
            "marker": {
             "colorbar": {
              "outlinewidth": 0,
              "tickcolor": "rgb(36,36,36)",
              "ticklen": 8,
              "ticks": "outside",
              "tickwidth": 2
             }
            },
            "type": "scattercarpet"
           }
          ],
          "scattergeo": [
           {
            "marker": {
             "colorbar": {
              "outlinewidth": 0,
              "tickcolor": "rgb(36,36,36)",
              "ticklen": 8,
              "ticks": "outside",
              "tickwidth": 2
             }
            },
            "type": "scattergeo"
           }
          ],
          "scattergl": [
           {
            "marker": {
             "colorbar": {
              "outlinewidth": 0,
              "tickcolor": "rgb(36,36,36)",
              "ticklen": 8,
              "ticks": "outside",
              "tickwidth": 2
             }
            },
            "type": "scattergl"
           }
          ],
          "scattermapbox": [
           {
            "marker": {
             "colorbar": {
              "outlinewidth": 0,
              "tickcolor": "rgb(36,36,36)",
              "ticklen": 8,
              "ticks": "outside",
              "tickwidth": 2
             }
            },
            "type": "scattermapbox"
           }
          ],
          "scatterpolar": [
           {
            "marker": {
             "colorbar": {
              "outlinewidth": 0,
              "tickcolor": "rgb(36,36,36)",
              "ticklen": 8,
              "ticks": "outside",
              "tickwidth": 2
             }
            },
            "type": "scatterpolar"
           }
          ],
          "scatterpolargl": [
           {
            "marker": {
             "colorbar": {
              "outlinewidth": 0,
              "tickcolor": "rgb(36,36,36)",
              "ticklen": 8,
              "ticks": "outside",
              "tickwidth": 2
             }
            },
            "type": "scatterpolargl"
           }
          ],
          "scatterternary": [
           {
            "marker": {
             "colorbar": {
              "outlinewidth": 0,
              "tickcolor": "rgb(36,36,36)",
              "ticklen": 8,
              "ticks": "outside",
              "tickwidth": 2
             }
            },
            "type": "scatterternary"
           }
          ],
          "surface": [
           {
            "colorbar": {
             "outlinewidth": 0,
             "tickcolor": "rgb(36,36,36)",
             "ticklen": 8,
             "ticks": "outside",
             "tickwidth": 2
            },
            "colorscale": [
             [
              0,
              "rgb(2,4,25)"
             ],
             [
              0.06274509803921569,
              "rgb(24,15,41)"
             ],
             [
              0.12549019607843137,
              "rgb(47,23,57)"
             ],
             [
              0.18823529411764706,
              "rgb(71,28,72)"
             ],
             [
              0.25098039215686274,
              "rgb(97,30,82)"
             ],
             [
              0.3137254901960784,
              "rgb(123,30,89)"
             ],
             [
              0.3764705882352941,
              "rgb(150,27,91)"
             ],
             [
              0.4392156862745098,
              "rgb(177,22,88)"
             ],
             [
              0.5019607843137255,
              "rgb(203,26,79)"
             ],
             [
              0.5647058823529412,
              "rgb(223,47,67)"
             ],
             [
              0.6274509803921569,
              "rgb(236,76,61)"
             ],
             [
              0.6901960784313725,
              "rgb(242,107,73)"
             ],
             [
              0.7529411764705882,
              "rgb(244,135,95)"
             ],
             [
              0.8156862745098039,
              "rgb(245,162,122)"
             ],
             [
              0.8784313725490196,
              "rgb(246,188,153)"
             ],
             [
              0.9411764705882353,
              "rgb(247,212,187)"
             ],
             [
              1,
              "rgb(250,234,220)"
             ]
            ],
            "type": "surface"
           }
          ],
          "table": [
           {
            "cells": {
             "fill": {
              "color": "rgb(231,231,240)"
             },
             "line": {
              "color": "white"
             }
            },
            "header": {
             "fill": {
              "color": "rgb(183,183,191)"
             },
             "line": {
              "color": "white"
             }
            },
            "type": "table"
           }
          ]
         },
         "layout": {
          "annotationdefaults": {
           "arrowcolor": "rgb(67,103,167)"
          },
          "autotypenumbers": "strict",
          "coloraxis": {
           "colorbar": {
            "outlinewidth": 0,
            "tickcolor": "rgb(36,36,36)",
            "ticklen": 8,
            "ticks": "outside",
            "tickwidth": 2
           }
          },
          "colorscale": {
           "sequential": [
            [
             0,
             "rgb(2,4,25)"
            ],
            [
             0.06274509803921569,
             "rgb(24,15,41)"
            ],
            [
             0.12549019607843137,
             "rgb(47,23,57)"
            ],
            [
             0.18823529411764706,
             "rgb(71,28,72)"
            ],
            [
             0.25098039215686274,
             "rgb(97,30,82)"
            ],
            [
             0.3137254901960784,
             "rgb(123,30,89)"
            ],
            [
             0.3764705882352941,
             "rgb(150,27,91)"
            ],
            [
             0.4392156862745098,
             "rgb(177,22,88)"
            ],
            [
             0.5019607843137255,
             "rgb(203,26,79)"
            ],
            [
             0.5647058823529412,
             "rgb(223,47,67)"
            ],
            [
             0.6274509803921569,
             "rgb(236,76,61)"
            ],
            [
             0.6901960784313725,
             "rgb(242,107,73)"
            ],
            [
             0.7529411764705882,
             "rgb(244,135,95)"
            ],
            [
             0.8156862745098039,
             "rgb(245,162,122)"
            ],
            [
             0.8784313725490196,
             "rgb(246,188,153)"
            ],
            [
             0.9411764705882353,
             "rgb(247,212,187)"
            ],
            [
             1,
             "rgb(250,234,220)"
            ]
           ],
           "sequentialminus": [
            [
             0,
             "rgb(2,4,25)"
            ],
            [
             0.06274509803921569,
             "rgb(24,15,41)"
            ],
            [
             0.12549019607843137,
             "rgb(47,23,57)"
            ],
            [
             0.18823529411764706,
             "rgb(71,28,72)"
            ],
            [
             0.25098039215686274,
             "rgb(97,30,82)"
            ],
            [
             0.3137254901960784,
             "rgb(123,30,89)"
            ],
            [
             0.3764705882352941,
             "rgb(150,27,91)"
            ],
            [
             0.4392156862745098,
             "rgb(177,22,88)"
            ],
            [
             0.5019607843137255,
             "rgb(203,26,79)"
            ],
            [
             0.5647058823529412,
             "rgb(223,47,67)"
            ],
            [
             0.6274509803921569,
             "rgb(236,76,61)"
            ],
            [
             0.6901960784313725,
             "rgb(242,107,73)"
            ],
            [
             0.7529411764705882,
             "rgb(244,135,95)"
            ],
            [
             0.8156862745098039,
             "rgb(245,162,122)"
            ],
            [
             0.8784313725490196,
             "rgb(246,188,153)"
            ],
            [
             0.9411764705882353,
             "rgb(247,212,187)"
            ],
            [
             1,
             "rgb(250,234,220)"
            ]
           ]
          },
          "colorway": [
           "rgb(76,114,176)",
           "rgb(221,132,82)",
           "rgb(85,168,104)",
           "rgb(196,78,82)",
           "rgb(129,114,179)",
           "rgb(147,120,96)",
           "rgb(218,139,195)",
           "rgb(140,140,140)",
           "rgb(204,185,116)",
           "rgb(100,181,205)"
          ],
          "font": {
           "color": "rgb(36,36,36)"
          },
          "geo": {
           "bgcolor": "white",
           "lakecolor": "white",
           "landcolor": "rgb(234,234,242)",
           "showlakes": true,
           "showland": true,
           "subunitcolor": "white"
          },
          "hoverlabel": {
           "align": "left"
          },
          "hovermode": "closest",
          "paper_bgcolor": "white",
          "plot_bgcolor": "rgb(234,234,242)",
          "polar": {
           "angularaxis": {
            "gridcolor": "white",
            "linecolor": "white",
            "showgrid": true,
            "ticks": ""
           },
           "bgcolor": "rgb(234,234,242)",
           "radialaxis": {
            "gridcolor": "white",
            "linecolor": "white",
            "showgrid": true,
            "ticks": ""
           }
          },
          "scene": {
           "xaxis": {
            "backgroundcolor": "rgb(234,234,242)",
            "gridcolor": "white",
            "gridwidth": 2,
            "linecolor": "white",
            "showbackground": true,
            "showgrid": true,
            "ticks": "",
            "zerolinecolor": "white"
           },
           "yaxis": {
            "backgroundcolor": "rgb(234,234,242)",
            "gridcolor": "white",
            "gridwidth": 2,
            "linecolor": "white",
            "showbackground": true,
            "showgrid": true,
            "ticks": "",
            "zerolinecolor": "white"
           },
           "zaxis": {
            "backgroundcolor": "rgb(234,234,242)",
            "gridcolor": "white",
            "gridwidth": 2,
            "linecolor": "white",
            "showbackground": true,
            "showgrid": true,
            "ticks": "",
            "zerolinecolor": "white"
           }
          },
          "shapedefaults": {
           "fillcolor": "rgb(67,103,167)",
           "line": {
            "width": 0
           },
           "opacity": 0.5
          },
          "ternary": {
           "aaxis": {
            "gridcolor": "white",
            "linecolor": "white",
            "showgrid": true,
            "ticks": ""
           },
           "baxis": {
            "gridcolor": "white",
            "linecolor": "white",
            "showgrid": true,
            "ticks": ""
           },
           "bgcolor": "rgb(234,234,242)",
           "caxis": {
            "gridcolor": "white",
            "linecolor": "white",
            "showgrid": true,
            "ticks": ""
           }
          },
          "xaxis": {
           "automargin": true,
           "gridcolor": "white",
           "linecolor": "white",
           "showgrid": true,
           "ticks": "",
           "title": {
            "standoff": 15
           },
           "zerolinecolor": "white"
          },
          "yaxis": {
           "automargin": true,
           "gridcolor": "white",
           "linecolor": "white",
           "showgrid": true,
           "ticks": "",
           "title": {
            "standoff": 15
           },
           "zerolinecolor": "white"
          }
         }
        },
        "title": {
         "text": "Annualized S&P 500 Close Price Return"
        },
        "width": 600,
        "xaxis": {
         "anchor": "y",
         "domain": [
          0,
          1
         ],
         "rangeslider": {
          "visible": false
         },
         "title": {
          "text": "Year"
         }
        },
        "yaxis": {
         "anchor": "x",
         "domain": [
          0,
          1
         ],
         "title": {
          "text": "Return (%)"
         }
        }
       }
      }
     },
     "metadata": {},
     "output_type": "display_data"
    }
   ],
   "source": [
    "# Dibujando el rendimiento anual\n",
    "\n",
    "# Calcular el retorno anual\n",
    "year_return = sp500.set_index('Date')['Close'].resample(\"Y\").last().pct_change().to_frame().reset_index()\n",
    "year_return['Close'] = year_return['Close'] * 100\n",
    "# Crea columna de booleanos\n",
    "year_return['Up/Down'] = year_return['Close'] > 0\n",
    "year_return['Up/Down'] = year_return['Up/Down'].replace({True: 'Up', False: 'Down'})\n",
    "# Definir el color basado en la columna de booleanos\n",
    "fig = px.bar(year_return, x='Date', y='Close', color='Up/Down', color_discrete_sequence=['rgb(200, 50, 30)', 'rgb(50, 200, 30)'], width=600)\n",
    "# establecer el título y los títulos de los ejes\n",
    "fig.update_layout(title='Annualized S&P 500 Close Price Return',\n",
    "                  xaxis_title='Year',\n",
    "                  yaxis_title='Return (%)',\n",
    "                  template=\"seaborn\" ,\n",
    "                  bargap=0.05\n",
    "                  )\n",
    "fig.update_layout(xaxis_rangeslider_visible=False, height=500,plot_bgcolor='white')\n",
    "# Cambiar los nombres de la leyenda\n",
    "fig.update_layout(legend=dict(orientation='h', yanchor='bottom', y=1, xanchor='right', x=1))\n",
    "# Configuración de opciones de periodo\n",
    "#fig.update_xaxes(\n",
    "#    rangeselector=dict(\n",
    "#        buttons=list([\n",
    "#            dict(count=1, label=\"YTD\", step=\"year\", stepmode=\"todate\"),\n",
    "#            dict(count=1, label=\"1y\", step=\"year\", stepmode=\"backward\"),\n",
    "#            dict(count=5, label=\"6y\", step=\"year\", stepmode=\"backward\"),\n",
    "#            dict(count=10, label=\"10y\", step=\"year\", stepmode=\"backward\"),\n",
    "#            dict(step=\"all\")\n",
    "#        ])\n",
    "#    )\n",
    "#)\n",
    "# Mostrar la gráfica\n",
    "fig.show()"
   ]
  },
  {
   "cell_type": "code",
   "execution_count": null,
   "metadata": {},
   "outputs": [
    {
     "data": {
      "application/vnd.plotly.v1+json": {
       "config": {
        "plotlyServerURL": "https://plot.ly"
       },
       "data": [
        {
         "alignmentgroup": "True",
         "hovertemplate": "Up/Down=Down<br>Date=%{x}<br>Close=%{y}<extra></extra>",
         "legendgroup": "Down",
         "marker": {
          "color": "rgb(200, 50, 30)",
          "pattern": {
           "shape": ""
          }
         },
         "name": "Down",
         "offsetgroup": "Down",
         "orientation": "v",
         "showlegend": true,
         "textposition": "auto",
         "type": "bar",
         "x": [
          "2000-01-31T00:00:00-05:00",
          "2000-02-29T00:00:00-05:00",
          "2000-04-30T00:00:00-04:00",
          "2000-05-31T00:00:00-04:00",
          "2000-07-31T00:00:00-04:00",
          "2000-09-30T00:00:00-04:00",
          "2000-10-31T00:00:00-05:00",
          "2000-11-30T00:00:00-05:00",
          "2001-02-28T00:00:00-05:00",
          "2001-03-31T00:00:00-05:00",
          "2001-06-30T00:00:00-04:00",
          "2001-07-31T00:00:00-04:00",
          "2001-08-31T00:00:00-04:00",
          "2001-09-30T00:00:00-04:00",
          "2002-01-31T00:00:00-05:00",
          "2002-02-28T00:00:00-05:00",
          "2002-04-30T00:00:00-04:00",
          "2002-05-31T00:00:00-04:00",
          "2002-06-30T00:00:00-04:00",
          "2002-07-31T00:00:00-04:00",
          "2002-09-30T00:00:00-04:00",
          "2002-12-31T00:00:00-05:00",
          "2003-01-31T00:00:00-05:00",
          "2003-02-28T00:00:00-05:00",
          "2003-09-30T00:00:00-04:00",
          "2004-03-31T00:00:00-05:00",
          "2004-04-30T00:00:00-04:00",
          "2004-07-31T00:00:00-04:00",
          "2005-01-31T00:00:00-05:00",
          "2005-03-31T00:00:00-05:00",
          "2005-04-30T00:00:00-04:00",
          "2005-06-30T00:00:00-04:00",
          "2005-08-31T00:00:00-04:00",
          "2005-10-31T00:00:00-05:00",
          "2005-12-31T00:00:00-05:00",
          "2006-05-31T00:00:00-04:00",
          "2007-02-28T00:00:00-05:00",
          "2007-06-30T00:00:00-04:00",
          "2007-07-31T00:00:00-04:00",
          "2007-11-30T00:00:00-05:00",
          "2007-12-31T00:00:00-05:00",
          "2008-01-31T00:00:00-05:00",
          "2008-02-29T00:00:00-05:00",
          "2008-03-31T00:00:00-04:00",
          "2008-06-30T00:00:00-04:00",
          "2008-07-31T00:00:00-04:00",
          "2008-09-30T00:00:00-04:00",
          "2008-10-31T00:00:00-04:00",
          "2008-11-30T00:00:00-05:00",
          "2009-01-31T00:00:00-05:00",
          "2009-02-28T00:00:00-05:00",
          "2009-10-31T00:00:00-04:00",
          "2010-01-31T00:00:00-05:00",
          "2010-05-31T00:00:00-04:00",
          "2010-06-30T00:00:00-04:00",
          "2010-08-31T00:00:00-04:00",
          "2010-11-30T00:00:00-05:00",
          "2011-03-31T00:00:00-04:00",
          "2011-05-31T00:00:00-04:00",
          "2011-06-30T00:00:00-04:00",
          "2011-07-31T00:00:00-04:00",
          "2011-08-31T00:00:00-04:00",
          "2011-09-30T00:00:00-04:00",
          "2011-11-30T00:00:00-05:00",
          "2012-04-30T00:00:00-04:00",
          "2012-05-31T00:00:00-04:00",
          "2012-10-31T00:00:00-04:00",
          "2013-06-30T00:00:00-04:00",
          "2013-08-31T00:00:00-04:00",
          "2014-01-31T00:00:00-05:00",
          "2014-07-31T00:00:00-04:00",
          "2014-09-30T00:00:00-04:00",
          "2014-12-31T00:00:00-05:00",
          "2015-01-31T00:00:00-05:00",
          "2015-03-31T00:00:00-04:00",
          "2015-06-30T00:00:00-04:00",
          "2015-08-31T00:00:00-04:00",
          "2015-09-30T00:00:00-04:00",
          "2015-12-31T00:00:00-05:00",
          "2016-01-31T00:00:00-05:00",
          "2016-02-29T00:00:00-05:00",
          "2016-08-31T00:00:00-04:00",
          "2016-09-30T00:00:00-04:00",
          "2016-10-31T00:00:00-04:00",
          "2017-03-31T00:00:00-04:00",
          "2018-02-28T00:00:00-05:00",
          "2018-03-31T00:00:00-04:00",
          "2018-10-31T00:00:00-04:00",
          "2018-12-31T00:00:00-05:00",
          "2019-05-31T00:00:00-04:00",
          "2019-08-31T00:00:00-04:00",
          "2020-01-31T00:00:00-05:00",
          "2020-02-29T00:00:00-05:00",
          "2020-03-31T00:00:00-04:00",
          "2020-09-30T00:00:00-04:00",
          "2020-10-31T00:00:00-04:00",
          "2021-01-31T00:00:00-05:00",
          "2021-09-30T00:00:00-04:00",
          "2021-11-30T00:00:00-05:00",
          "2022-01-31T00:00:00-05:00",
          "2022-02-28T00:00:00-05:00",
          "2022-04-30T00:00:00-04:00",
          "2022-06-30T00:00:00-04:00",
          "2022-08-31T00:00:00-04:00",
          "2022-09-30T00:00:00-04:00",
          "2022-12-31T00:00:00-05:00",
          "2023-02-28T00:00:00-05:00"
         ],
         "xaxis": "x",
         "y": [
          null,
          -2.0108083256356934,
          -3.0795755780191336,
          -2.1915050603417807,
          -1.6341275904170893,
          -5.3482974719764265,
          -0.49494854217706497,
          -8.006861010730892,
          -9.229073539585963,
          -6.420471080339151,
          -2.503538942756467,
          -1.0740149595403703,
          -6.410840688075748,
          -8.172340570563886,
          -1.5573832456979853,
          -2.0766211039727644,
          -6.141762591921907,
          -0.9081481352177012,
          -7.24553538081798,
          -7.900427514940766,
          -11.002431825242788,
          -6.033257188502883,
          -2.741469268304464,
          -1.700360825687175,
          -1.1944364585525724,
          -1.635891961786684,
          -1.6790751960348183,
          -3.4290519520026264,
          -2.529046744229402,
          -1.911765556028966,
          -2.0108582083263493,
          -0.014271417986777557,
          -1.122210459860007,
          -1.7740779932313488,
          -0.09523493171964548,
          -3.0916916538203165,
          -2.1846175991944383,
          -1.781632254788501,
          -3.198187836198829,
          -4.404341737941575,
          -0.8628508561297932,
          -6.116343227776988,
          -3.476119273728817,
          -0.5959623397817415,
          -8.596238482631446,
          -0.9859371185302779,
          -9.079143354379216,
          -16.942452401777075,
          -7.484904233870971,
          -8.565734305805428,
          -10.993119762019942,
          -1.9762000526814205,
          -3.6974245692262153,
          -8.197584207319053,
          -5.388244223983851,
          -4.744918363260475,
          -0.22902497465766558,
          -0.10473129391664893,
          -1.350095289522324,
          -1.8257461652479323,
          -2.147442530666621,
          -5.679110795232889,
          -7.1761988080896515,
          -0.5058715107011391,
          -0.7497452372495994,
          -6.2650725714543665,
          -1.9789409716293949,
          -1.4999301595580827,
          -3.1298019479343964,
          -3.5582905955811595,
          -1.5079830845342368,
          -1.5513837249453988,
          -0.4188587515997044,
          -3.1040805838410623,
          -1.7396107114219572,
          -2.1011671979729973,
          -6.258081825586559,
          -2.6442831280001466,
          -1.7530185032692547,
          -5.07353220469523,
          -0.41283603090035426,
          -0.12192428990193127,
          -0.12344511393173052,
          -1.942567890903446,
          -0.03891971352694146,
          -3.89473718793677,
          -2.688449860055664,
          -6.94033560936963,
          -9.177689467997252,
          -6.57777313668354,
          -1.8091627240523933,
          -0.16280928190489652,
          -8.411048363840312,
          -12.511928240892821,
          -3.9227970178423055,
          -2.766578622137972,
          -1.1136660755445171,
          -4.75691688019011,
          -0.8333706184746159,
          -5.258516502739385,
          -3.1360491945908286,
          -8.795671180434306,
          -8.391999993382681,
          -4.244012827299837,
          -9.339567201327437,
          -5.897147407473047,
          -2.611249393181858
         ],
         "yaxis": "y"
        },
        {
         "alignmentgroup": "True",
         "hovertemplate": "Up/Down=Up<br>Date=%{x}<br>Close=%{y}<extra></extra>",
         "legendgroup": "Up",
         "marker": {
          "color": "rgb(50, 200, 30)",
          "pattern": {
           "shape": ""
          }
         },
         "name": "Up",
         "offsetgroup": "Up",
         "orientation": "v",
         "showlegend": true,
         "textposition": "auto",
         "type": "bar",
         "x": [
          "2000-03-31T00:00:00-05:00",
          "2000-06-30T00:00:00-04:00",
          "2000-08-31T00:00:00-04:00",
          "2000-12-31T00:00:00-05:00",
          "2001-01-31T00:00:00-05:00",
          "2001-04-30T00:00:00-04:00",
          "2001-05-31T00:00:00-04:00",
          "2001-10-31T00:00:00-05:00",
          "2001-11-30T00:00:00-05:00",
          "2001-12-31T00:00:00-05:00",
          "2002-03-31T00:00:00-05:00",
          "2002-08-31T00:00:00-04:00",
          "2002-10-31T00:00:00-05:00",
          "2002-11-30T00:00:00-05:00",
          "2003-03-31T00:00:00-05:00",
          "2003-04-30T00:00:00-04:00",
          "2003-05-31T00:00:00-04:00",
          "2003-06-30T00:00:00-04:00",
          "2003-07-31T00:00:00-04:00",
          "2003-08-31T00:00:00-04:00",
          "2003-10-31T00:00:00-05:00",
          "2003-11-30T00:00:00-05:00",
          "2003-12-31T00:00:00-05:00",
          "2004-01-31T00:00:00-05:00",
          "2004-02-29T00:00:00-05:00",
          "2004-05-31T00:00:00-04:00",
          "2004-06-30T00:00:00-04:00",
          "2004-08-31T00:00:00-04:00",
          "2004-09-30T00:00:00-04:00",
          "2004-10-31T00:00:00-04:00",
          "2004-11-30T00:00:00-05:00",
          "2004-12-31T00:00:00-05:00",
          "2005-02-28T00:00:00-05:00",
          "2005-05-31T00:00:00-04:00",
          "2005-07-31T00:00:00-04:00",
          "2005-09-30T00:00:00-04:00",
          "2005-11-30T00:00:00-05:00",
          "2006-01-31T00:00:00-05:00",
          "2006-02-28T00:00:00-05:00",
          "2006-03-31T00:00:00-05:00",
          "2006-04-30T00:00:00-04:00",
          "2006-06-30T00:00:00-04:00",
          "2006-07-31T00:00:00-04:00",
          "2006-08-31T00:00:00-04:00",
          "2006-09-30T00:00:00-04:00",
          "2006-10-31T00:00:00-05:00",
          "2006-11-30T00:00:00-05:00",
          "2006-12-31T00:00:00-05:00",
          "2007-01-31T00:00:00-05:00",
          "2007-03-31T00:00:00-04:00",
          "2007-04-30T00:00:00-04:00",
          "2007-05-31T00:00:00-04:00",
          "2007-08-31T00:00:00-04:00",
          "2007-09-30T00:00:00-04:00",
          "2007-10-31T00:00:00-04:00",
          "2008-04-30T00:00:00-04:00",
          "2008-05-31T00:00:00-04:00",
          "2008-08-31T00:00:00-04:00",
          "2008-12-31T00:00:00-05:00",
          "2009-03-31T00:00:00-04:00",
          "2009-04-30T00:00:00-04:00",
          "2009-05-31T00:00:00-04:00",
          "2009-06-30T00:00:00-04:00",
          "2009-07-31T00:00:00-04:00",
          "2009-08-31T00:00:00-04:00",
          "2009-09-30T00:00:00-04:00",
          "2009-11-30T00:00:00-05:00",
          "2009-12-31T00:00:00-05:00",
          "2010-02-28T00:00:00-05:00",
          "2010-03-31T00:00:00-04:00",
          "2010-04-30T00:00:00-04:00",
          "2010-07-31T00:00:00-04:00",
          "2010-09-30T00:00:00-04:00",
          "2010-10-31T00:00:00-04:00",
          "2010-12-31T00:00:00-05:00",
          "2011-01-31T00:00:00-05:00",
          "2011-02-28T00:00:00-05:00",
          "2011-04-30T00:00:00-04:00",
          "2011-10-31T00:00:00-04:00",
          "2011-12-31T00:00:00-05:00",
          "2012-01-31T00:00:00-05:00",
          "2012-02-29T00:00:00-05:00",
          "2012-03-31T00:00:00-04:00",
          "2012-06-30T00:00:00-04:00",
          "2012-07-31T00:00:00-04:00",
          "2012-08-31T00:00:00-04:00",
          "2012-09-30T00:00:00-04:00",
          "2012-11-30T00:00:00-05:00",
          "2012-12-31T00:00:00-05:00",
          "2013-01-31T00:00:00-05:00",
          "2013-02-28T00:00:00-05:00",
          "2013-03-31T00:00:00-04:00",
          "2013-04-30T00:00:00-04:00",
          "2013-05-31T00:00:00-04:00",
          "2013-07-31T00:00:00-04:00",
          "2013-09-30T00:00:00-04:00",
          "2013-10-31T00:00:00-04:00",
          "2013-11-30T00:00:00-05:00",
          "2013-12-31T00:00:00-05:00",
          "2014-02-28T00:00:00-05:00",
          "2014-03-31T00:00:00-04:00",
          "2014-04-30T00:00:00-04:00",
          "2014-05-31T00:00:00-04:00",
          "2014-06-30T00:00:00-04:00",
          "2014-08-31T00:00:00-04:00",
          "2014-10-31T00:00:00-04:00",
          "2014-11-30T00:00:00-05:00",
          "2015-02-28T00:00:00-05:00",
          "2015-04-30T00:00:00-04:00",
          "2015-05-31T00:00:00-04:00",
          "2015-07-31T00:00:00-04:00",
          "2015-10-31T00:00:00-04:00",
          "2015-11-30T00:00:00-05:00",
          "2016-03-31T00:00:00-04:00",
          "2016-04-30T00:00:00-04:00",
          "2016-05-31T00:00:00-04:00",
          "2016-06-30T00:00:00-04:00",
          "2016-07-31T00:00:00-04:00",
          "2016-11-30T00:00:00-05:00",
          "2016-12-31T00:00:00-05:00",
          "2017-01-31T00:00:00-05:00",
          "2017-02-28T00:00:00-05:00",
          "2017-04-30T00:00:00-04:00",
          "2017-05-31T00:00:00-04:00",
          "2017-06-30T00:00:00-04:00",
          "2017-07-31T00:00:00-04:00",
          "2017-08-31T00:00:00-04:00",
          "2017-09-30T00:00:00-04:00",
          "2017-10-31T00:00:00-04:00",
          "2017-11-30T00:00:00-05:00",
          "2017-12-31T00:00:00-05:00",
          "2018-01-31T00:00:00-05:00",
          "2018-04-30T00:00:00-04:00",
          "2018-05-31T00:00:00-04:00",
          "2018-06-30T00:00:00-04:00",
          "2018-07-31T00:00:00-04:00",
          "2018-08-31T00:00:00-04:00",
          "2018-09-30T00:00:00-04:00",
          "2018-11-30T00:00:00-05:00",
          "2019-01-31T00:00:00-05:00",
          "2019-02-28T00:00:00-05:00",
          "2019-03-31T00:00:00-04:00",
          "2019-04-30T00:00:00-04:00",
          "2019-06-30T00:00:00-04:00",
          "2019-07-31T00:00:00-04:00",
          "2019-09-30T00:00:00-04:00",
          "2019-10-31T00:00:00-04:00",
          "2019-11-30T00:00:00-05:00",
          "2019-12-31T00:00:00-05:00",
          "2020-04-30T00:00:00-04:00",
          "2020-05-31T00:00:00-04:00",
          "2020-06-30T00:00:00-04:00",
          "2020-07-31T00:00:00-04:00",
          "2020-08-31T00:00:00-04:00",
          "2020-11-30T00:00:00-05:00",
          "2020-12-31T00:00:00-05:00",
          "2021-02-28T00:00:00-05:00",
          "2021-03-31T00:00:00-04:00",
          "2021-04-30T00:00:00-04:00",
          "2021-05-31T00:00:00-04:00",
          "2021-06-30T00:00:00-04:00",
          "2021-07-31T00:00:00-04:00",
          "2021-08-31T00:00:00-04:00",
          "2021-10-31T00:00:00-04:00",
          "2021-12-31T00:00:00-05:00",
          "2022-03-31T00:00:00-04:00",
          "2022-05-31T00:00:00-04:00",
          "2022-07-31T00:00:00-04:00",
          "2022-10-31T00:00:00-04:00",
          "2022-11-30T00:00:00-05:00",
          "2023-01-31T00:00:00-05:00",
          "2023-03-31T00:00:00-04:00"
         ],
         "xaxis": "x",
         "y": [
          9.671982835364812,
          2.3933549615877237,
          6.069910494167097,
          0.40534456237286687,
          3.4636576676164488,
          7.681436165439459,
          0.5090187401275648,
          1.8099111333141016,
          7.51759041240454,
          0.7573834088927756,
          3.6738892862074657,
          0.4881433306494376,
          8.644880033371404,
          5.706962070498589,
          0.8357567684332823,
          8.10441071800323,
          5.0898709609522585,
          1.1322214676852127,
          1.6223701958536507,
          1.7873203593487874,
          5.496148663571665,
          0.7128504071372888,
          5.076554077889206,
          1.7276386950755285,
          1.220897373761054,
          1.208345009735412,
          1.7988998771432563,
          0.22873503233691306,
          0.9363875526838816,
          1.4014243690939843,
          3.859493629597055,
          3.245821284320516,
          1.8903346132113308,
          2.995204663120865,
          3.596828690361842,
          0.694902431673361,
          3.5186096519093324,
          2.5466771341108085,
          0.04531577283561905,
          1.1095810408889628,
          1.215565291784415,
          0.008659650459597046,
          0.5085878803453348,
          2.127419311502643,
          2.4566297967782313,
          3.1508003585395628,
          1.6466656343095964,
          1.2615782814670462,
          1.4059043023177953,
          0.9979982939206433,
          4.3290690426759815,
          3.2549228707361655,
          1.2863572018857905,
          3.579400817860079,
          1.4822338223554832,
          4.75466976412291,
          1.067418170406853,
          1.2190464669121548,
          0.7821576633499472,
          8.540446199532292,
          9.392507914826332,
          5.308144638516654,
          0.019582726560996022,
          7.414172714778422,
          3.356018886854417,
          3.5723345723119637,
          5.736406145372763,
          1.7770570919338313,
          2.8513689046546054,
          5.8796425545497355,
          1.4759230482012997,
          6.8777849574635175,
          8.755110305113556,
          3.685599403554063,
          6.530004034715509,
          2.2645574359139164,
          3.1956563728093412,
          2.8495380666536008,
          10.772303843744147,
          0.8532763666636134,
          4.358306270498535,
          4.058946376811723,
          3.133231453144192,
          3.955498222833631,
          1.259757420478791,
          1.9763369506085704,
          2.4236153617775313,
          0.28467166850427716,
          0.7068230956284616,
          5.0428096466868855,
          1.1060648765041536,
          3.5987723982872977,
          1.8085767779890016,
          2.0762811683057825,
          4.946207991308538,
          2.974952325919533,
          4.459575276194472,
          2.8049471367328715,
          2.3562791975445974,
          4.31170301781616,
          0.6932165418227054,
          0.6200789153414155,
          2.103028007328045,
          1.9058331749470137,
          3.7655295579825276,
          2.3201460667203078,
          2.453358864631494,
          5.48925108906233,
          0.8520819822535275,
          1.0491382304589791,
          1.9742029435184882,
          8.298311781266655,
          0.050486911033487125,
          6.599111444005845,
          0.26993982833325436,
          1.5324602525288444,
          0.09109212401243738,
          3.5609800753315435,
          3.4174521829295035,
          1.8200762441865859,
          1.7884358198382522,
          3.719816006681631,
          0.9091208748854607,
          1.1576251246328662,
          0.4813775207812565,
          1.9348826001101882,
          0.0546433019853243,
          1.9302978562167672,
          2.218813506615125,
          2.8082627806563343,
          0.9831630594270502,
          5.617870412552817,
          0.27187749953683227,
          2.16083418545836,
          0.48424362676078303,
          3.602155617289915,
          3.0263211276748248,
          0.42942874264617625,
          1.7859356654779779,
          7.868440166582613,
          2.9728889343927145,
          1.7924256249588488,
          3.9313498313737982,
          6.89301639982407,
          1.3128152166957952,
          1.7181177931020697,
          2.0431770513684056,
          3.4047037714499906,
          2.858981890573009,
          12.68440381652789,
          4.528181966555822,
          1.838839651392421,
          5.510132148044367,
          7.006466690171775,
          10.75456354438591,
          3.712145909357001,
          2.6091451377448394,
          4.2438632533165155,
          5.242532134755851,
          0.548648867060697,
          2.2214009565834747,
          2.274805482838871,
          2.8990416255438634,
          6.914383640060651,
          4.361291346206486,
          3.5773288371546252,
          0.005317770464463578,
          9.111639173021002,
          7.98634138370089,
          5.375289335249311,
          6.17528578346791,
          0.0282134734217232
         ],
         "yaxis": "y"
        }
       ],
       "layout": {
        "barmode": "relative",
        "height": 600,
        "legend": {
         "orientation": "h",
         "title": {
          "text": "Monthly Return"
         },
         "tracegroupgap": 0,
         "x": 1,
         "xanchor": "right",
         "y": 1.02,
         "yanchor": "bottom"
        },
        "margin": {
         "t": 60
        },
        "plot_bgcolor": "white",
        "template": {
         "data": {
          "bar": [
           {
            "error_x": {
             "color": "rgb(36,36,36)"
            },
            "error_y": {
             "color": "rgb(36,36,36)"
            },
            "marker": {
             "line": {
              "color": "rgb(234,234,242)",
              "width": 0.5
             },
             "pattern": {
              "fillmode": "overlay",
              "size": 10,
              "solidity": 0.2
             }
            },
            "type": "bar"
           }
          ],
          "barpolar": [
           {
            "marker": {
             "line": {
              "color": "rgb(234,234,242)",
              "width": 0.5
             },
             "pattern": {
              "fillmode": "overlay",
              "size": 10,
              "solidity": 0.2
             }
            },
            "type": "barpolar"
           }
          ],
          "carpet": [
           {
            "aaxis": {
             "endlinecolor": "rgb(36,36,36)",
             "gridcolor": "white",
             "linecolor": "white",
             "minorgridcolor": "white",
             "startlinecolor": "rgb(36,36,36)"
            },
            "baxis": {
             "endlinecolor": "rgb(36,36,36)",
             "gridcolor": "white",
             "linecolor": "white",
             "minorgridcolor": "white",
             "startlinecolor": "rgb(36,36,36)"
            },
            "type": "carpet"
           }
          ],
          "choropleth": [
           {
            "colorbar": {
             "outlinewidth": 0,
             "tickcolor": "rgb(36,36,36)",
             "ticklen": 8,
             "ticks": "outside",
             "tickwidth": 2
            },
            "type": "choropleth"
           }
          ],
          "contour": [
           {
            "colorbar": {
             "outlinewidth": 0,
             "tickcolor": "rgb(36,36,36)",
             "ticklen": 8,
             "ticks": "outside",
             "tickwidth": 2
            },
            "colorscale": [
             [
              0,
              "rgb(2,4,25)"
             ],
             [
              0.06274509803921569,
              "rgb(24,15,41)"
             ],
             [
              0.12549019607843137,
              "rgb(47,23,57)"
             ],
             [
              0.18823529411764706,
              "rgb(71,28,72)"
             ],
             [
              0.25098039215686274,
              "rgb(97,30,82)"
             ],
             [
              0.3137254901960784,
              "rgb(123,30,89)"
             ],
             [
              0.3764705882352941,
              "rgb(150,27,91)"
             ],
             [
              0.4392156862745098,
              "rgb(177,22,88)"
             ],
             [
              0.5019607843137255,
              "rgb(203,26,79)"
             ],
             [
              0.5647058823529412,
              "rgb(223,47,67)"
             ],
             [
              0.6274509803921569,
              "rgb(236,76,61)"
             ],
             [
              0.6901960784313725,
              "rgb(242,107,73)"
             ],
             [
              0.7529411764705882,
              "rgb(244,135,95)"
             ],
             [
              0.8156862745098039,
              "rgb(245,162,122)"
             ],
             [
              0.8784313725490196,
              "rgb(246,188,153)"
             ],
             [
              0.9411764705882353,
              "rgb(247,212,187)"
             ],
             [
              1,
              "rgb(250,234,220)"
             ]
            ],
            "type": "contour"
           }
          ],
          "contourcarpet": [
           {
            "colorbar": {
             "outlinewidth": 0,
             "tickcolor": "rgb(36,36,36)",
             "ticklen": 8,
             "ticks": "outside",
             "tickwidth": 2
            },
            "type": "contourcarpet"
           }
          ],
          "heatmap": [
           {
            "colorbar": {
             "outlinewidth": 0,
             "tickcolor": "rgb(36,36,36)",
             "ticklen": 8,
             "ticks": "outside",
             "tickwidth": 2
            },
            "colorscale": [
             [
              0,
              "rgb(2,4,25)"
             ],
             [
              0.06274509803921569,
              "rgb(24,15,41)"
             ],
             [
              0.12549019607843137,
              "rgb(47,23,57)"
             ],
             [
              0.18823529411764706,
              "rgb(71,28,72)"
             ],
             [
              0.25098039215686274,
              "rgb(97,30,82)"
             ],
             [
              0.3137254901960784,
              "rgb(123,30,89)"
             ],
             [
              0.3764705882352941,
              "rgb(150,27,91)"
             ],
             [
              0.4392156862745098,
              "rgb(177,22,88)"
             ],
             [
              0.5019607843137255,
              "rgb(203,26,79)"
             ],
             [
              0.5647058823529412,
              "rgb(223,47,67)"
             ],
             [
              0.6274509803921569,
              "rgb(236,76,61)"
             ],
             [
              0.6901960784313725,
              "rgb(242,107,73)"
             ],
             [
              0.7529411764705882,
              "rgb(244,135,95)"
             ],
             [
              0.8156862745098039,
              "rgb(245,162,122)"
             ],
             [
              0.8784313725490196,
              "rgb(246,188,153)"
             ],
             [
              0.9411764705882353,
              "rgb(247,212,187)"
             ],
             [
              1,
              "rgb(250,234,220)"
             ]
            ],
            "type": "heatmap"
           }
          ],
          "heatmapgl": [
           {
            "colorbar": {
             "outlinewidth": 0,
             "tickcolor": "rgb(36,36,36)",
             "ticklen": 8,
             "ticks": "outside",
             "tickwidth": 2
            },
            "colorscale": [
             [
              0,
              "rgb(2,4,25)"
             ],
             [
              0.06274509803921569,
              "rgb(24,15,41)"
             ],
             [
              0.12549019607843137,
              "rgb(47,23,57)"
             ],
             [
              0.18823529411764706,
              "rgb(71,28,72)"
             ],
             [
              0.25098039215686274,
              "rgb(97,30,82)"
             ],
             [
              0.3137254901960784,
              "rgb(123,30,89)"
             ],
             [
              0.3764705882352941,
              "rgb(150,27,91)"
             ],
             [
              0.4392156862745098,
              "rgb(177,22,88)"
             ],
             [
              0.5019607843137255,
              "rgb(203,26,79)"
             ],
             [
              0.5647058823529412,
              "rgb(223,47,67)"
             ],
             [
              0.6274509803921569,
              "rgb(236,76,61)"
             ],
             [
              0.6901960784313725,
              "rgb(242,107,73)"
             ],
             [
              0.7529411764705882,
              "rgb(244,135,95)"
             ],
             [
              0.8156862745098039,
              "rgb(245,162,122)"
             ],
             [
              0.8784313725490196,
              "rgb(246,188,153)"
             ],
             [
              0.9411764705882353,
              "rgb(247,212,187)"
             ],
             [
              1,
              "rgb(250,234,220)"
             ]
            ],
            "type": "heatmapgl"
           }
          ],
          "histogram": [
           {
            "marker": {
             "pattern": {
              "fillmode": "overlay",
              "size": 10,
              "solidity": 0.2
             }
            },
            "type": "histogram"
           }
          ],
          "histogram2d": [
           {
            "colorbar": {
             "outlinewidth": 0,
             "tickcolor": "rgb(36,36,36)",
             "ticklen": 8,
             "ticks": "outside",
             "tickwidth": 2
            },
            "colorscale": [
             [
              0,
              "rgb(2,4,25)"
             ],
             [
              0.06274509803921569,
              "rgb(24,15,41)"
             ],
             [
              0.12549019607843137,
              "rgb(47,23,57)"
             ],
             [
              0.18823529411764706,
              "rgb(71,28,72)"
             ],
             [
              0.25098039215686274,
              "rgb(97,30,82)"
             ],
             [
              0.3137254901960784,
              "rgb(123,30,89)"
             ],
             [
              0.3764705882352941,
              "rgb(150,27,91)"
             ],
             [
              0.4392156862745098,
              "rgb(177,22,88)"
             ],
             [
              0.5019607843137255,
              "rgb(203,26,79)"
             ],
             [
              0.5647058823529412,
              "rgb(223,47,67)"
             ],
             [
              0.6274509803921569,
              "rgb(236,76,61)"
             ],
             [
              0.6901960784313725,
              "rgb(242,107,73)"
             ],
             [
              0.7529411764705882,
              "rgb(244,135,95)"
             ],
             [
              0.8156862745098039,
              "rgb(245,162,122)"
             ],
             [
              0.8784313725490196,
              "rgb(246,188,153)"
             ],
             [
              0.9411764705882353,
              "rgb(247,212,187)"
             ],
             [
              1,
              "rgb(250,234,220)"
             ]
            ],
            "type": "histogram2d"
           }
          ],
          "histogram2dcontour": [
           {
            "colorbar": {
             "outlinewidth": 0,
             "tickcolor": "rgb(36,36,36)",
             "ticklen": 8,
             "ticks": "outside",
             "tickwidth": 2
            },
            "colorscale": [
             [
              0,
              "rgb(2,4,25)"
             ],
             [
              0.06274509803921569,
              "rgb(24,15,41)"
             ],
             [
              0.12549019607843137,
              "rgb(47,23,57)"
             ],
             [
              0.18823529411764706,
              "rgb(71,28,72)"
             ],
             [
              0.25098039215686274,
              "rgb(97,30,82)"
             ],
             [
              0.3137254901960784,
              "rgb(123,30,89)"
             ],
             [
              0.3764705882352941,
              "rgb(150,27,91)"
             ],
             [
              0.4392156862745098,
              "rgb(177,22,88)"
             ],
             [
              0.5019607843137255,
              "rgb(203,26,79)"
             ],
             [
              0.5647058823529412,
              "rgb(223,47,67)"
             ],
             [
              0.6274509803921569,
              "rgb(236,76,61)"
             ],
             [
              0.6901960784313725,
              "rgb(242,107,73)"
             ],
             [
              0.7529411764705882,
              "rgb(244,135,95)"
             ],
             [
              0.8156862745098039,
              "rgb(245,162,122)"
             ],
             [
              0.8784313725490196,
              "rgb(246,188,153)"
             ],
             [
              0.9411764705882353,
              "rgb(247,212,187)"
             ],
             [
              1,
              "rgb(250,234,220)"
             ]
            ],
            "type": "histogram2dcontour"
           }
          ],
          "mesh3d": [
           {
            "colorbar": {
             "outlinewidth": 0,
             "tickcolor": "rgb(36,36,36)",
             "ticklen": 8,
             "ticks": "outside",
             "tickwidth": 2
            },
            "type": "mesh3d"
           }
          ],
          "parcoords": [
           {
            "line": {
             "colorbar": {
              "outlinewidth": 0,
              "tickcolor": "rgb(36,36,36)",
              "ticklen": 8,
              "ticks": "outside",
              "tickwidth": 2
             }
            },
            "type": "parcoords"
           }
          ],
          "pie": [
           {
            "automargin": true,
            "type": "pie"
           }
          ],
          "scatter": [
           {
            "fillpattern": {
             "fillmode": "overlay",
             "size": 10,
             "solidity": 0.2
            },
            "type": "scatter"
           }
          ],
          "scatter3d": [
           {
            "line": {
             "colorbar": {
              "outlinewidth": 0,
              "tickcolor": "rgb(36,36,36)",
              "ticklen": 8,
              "ticks": "outside",
              "tickwidth": 2
             }
            },
            "marker": {
             "colorbar": {
              "outlinewidth": 0,
              "tickcolor": "rgb(36,36,36)",
              "ticklen": 8,
              "ticks": "outside",
              "tickwidth": 2
             }
            },
            "type": "scatter3d"
           }
          ],
          "scattercarpet": [
           {
            "marker": {
             "colorbar": {
              "outlinewidth": 0,
              "tickcolor": "rgb(36,36,36)",
              "ticklen": 8,
              "ticks": "outside",
              "tickwidth": 2
             }
            },
            "type": "scattercarpet"
           }
          ],
          "scattergeo": [
           {
            "marker": {
             "colorbar": {
              "outlinewidth": 0,
              "tickcolor": "rgb(36,36,36)",
              "ticklen": 8,
              "ticks": "outside",
              "tickwidth": 2
             }
            },
            "type": "scattergeo"
           }
          ],
          "scattergl": [
           {
            "marker": {
             "colorbar": {
              "outlinewidth": 0,
              "tickcolor": "rgb(36,36,36)",
              "ticklen": 8,
              "ticks": "outside",
              "tickwidth": 2
             }
            },
            "type": "scattergl"
           }
          ],
          "scattermapbox": [
           {
            "marker": {
             "colorbar": {
              "outlinewidth": 0,
              "tickcolor": "rgb(36,36,36)",
              "ticklen": 8,
              "ticks": "outside",
              "tickwidth": 2
             }
            },
            "type": "scattermapbox"
           }
          ],
          "scatterpolar": [
           {
            "marker": {
             "colorbar": {
              "outlinewidth": 0,
              "tickcolor": "rgb(36,36,36)",
              "ticklen": 8,
              "ticks": "outside",
              "tickwidth": 2
             }
            },
            "type": "scatterpolar"
           }
          ],
          "scatterpolargl": [
           {
            "marker": {
             "colorbar": {
              "outlinewidth": 0,
              "tickcolor": "rgb(36,36,36)",
              "ticklen": 8,
              "ticks": "outside",
              "tickwidth": 2
             }
            },
            "type": "scatterpolargl"
           }
          ],
          "scatterternary": [
           {
            "marker": {
             "colorbar": {
              "outlinewidth": 0,
              "tickcolor": "rgb(36,36,36)",
              "ticklen": 8,
              "ticks": "outside",
              "tickwidth": 2
             }
            },
            "type": "scatterternary"
           }
          ],
          "surface": [
           {
            "colorbar": {
             "outlinewidth": 0,
             "tickcolor": "rgb(36,36,36)",
             "ticklen": 8,
             "ticks": "outside",
             "tickwidth": 2
            },
            "colorscale": [
             [
              0,
              "rgb(2,4,25)"
             ],
             [
              0.06274509803921569,
              "rgb(24,15,41)"
             ],
             [
              0.12549019607843137,
              "rgb(47,23,57)"
             ],
             [
              0.18823529411764706,
              "rgb(71,28,72)"
             ],
             [
              0.25098039215686274,
              "rgb(97,30,82)"
             ],
             [
              0.3137254901960784,
              "rgb(123,30,89)"
             ],
             [
              0.3764705882352941,
              "rgb(150,27,91)"
             ],
             [
              0.4392156862745098,
              "rgb(177,22,88)"
             ],
             [
              0.5019607843137255,
              "rgb(203,26,79)"
             ],
             [
              0.5647058823529412,
              "rgb(223,47,67)"
             ],
             [
              0.6274509803921569,
              "rgb(236,76,61)"
             ],
             [
              0.6901960784313725,
              "rgb(242,107,73)"
             ],
             [
              0.7529411764705882,
              "rgb(244,135,95)"
             ],
             [
              0.8156862745098039,
              "rgb(245,162,122)"
             ],
             [
              0.8784313725490196,
              "rgb(246,188,153)"
             ],
             [
              0.9411764705882353,
              "rgb(247,212,187)"
             ],
             [
              1,
              "rgb(250,234,220)"
             ]
            ],
            "type": "surface"
           }
          ],
          "table": [
           {
            "cells": {
             "fill": {
              "color": "rgb(231,231,240)"
             },
             "line": {
              "color": "white"
             }
            },
            "header": {
             "fill": {
              "color": "rgb(183,183,191)"
             },
             "line": {
              "color": "white"
             }
            },
            "type": "table"
           }
          ]
         },
         "layout": {
          "annotationdefaults": {
           "arrowcolor": "rgb(67,103,167)"
          },
          "autotypenumbers": "strict",
          "coloraxis": {
           "colorbar": {
            "outlinewidth": 0,
            "tickcolor": "rgb(36,36,36)",
            "ticklen": 8,
            "ticks": "outside",
            "tickwidth": 2
           }
          },
          "colorscale": {
           "sequential": [
            [
             0,
             "rgb(2,4,25)"
            ],
            [
             0.06274509803921569,
             "rgb(24,15,41)"
            ],
            [
             0.12549019607843137,
             "rgb(47,23,57)"
            ],
            [
             0.18823529411764706,
             "rgb(71,28,72)"
            ],
            [
             0.25098039215686274,
             "rgb(97,30,82)"
            ],
            [
             0.3137254901960784,
             "rgb(123,30,89)"
            ],
            [
             0.3764705882352941,
             "rgb(150,27,91)"
            ],
            [
             0.4392156862745098,
             "rgb(177,22,88)"
            ],
            [
             0.5019607843137255,
             "rgb(203,26,79)"
            ],
            [
             0.5647058823529412,
             "rgb(223,47,67)"
            ],
            [
             0.6274509803921569,
             "rgb(236,76,61)"
            ],
            [
             0.6901960784313725,
             "rgb(242,107,73)"
            ],
            [
             0.7529411764705882,
             "rgb(244,135,95)"
            ],
            [
             0.8156862745098039,
             "rgb(245,162,122)"
            ],
            [
             0.8784313725490196,
             "rgb(246,188,153)"
            ],
            [
             0.9411764705882353,
             "rgb(247,212,187)"
            ],
            [
             1,
             "rgb(250,234,220)"
            ]
           ],
           "sequentialminus": [
            [
             0,
             "rgb(2,4,25)"
            ],
            [
             0.06274509803921569,
             "rgb(24,15,41)"
            ],
            [
             0.12549019607843137,
             "rgb(47,23,57)"
            ],
            [
             0.18823529411764706,
             "rgb(71,28,72)"
            ],
            [
             0.25098039215686274,
             "rgb(97,30,82)"
            ],
            [
             0.3137254901960784,
             "rgb(123,30,89)"
            ],
            [
             0.3764705882352941,
             "rgb(150,27,91)"
            ],
            [
             0.4392156862745098,
             "rgb(177,22,88)"
            ],
            [
             0.5019607843137255,
             "rgb(203,26,79)"
            ],
            [
             0.5647058823529412,
             "rgb(223,47,67)"
            ],
            [
             0.6274509803921569,
             "rgb(236,76,61)"
            ],
            [
             0.6901960784313725,
             "rgb(242,107,73)"
            ],
            [
             0.7529411764705882,
             "rgb(244,135,95)"
            ],
            [
             0.8156862745098039,
             "rgb(245,162,122)"
            ],
            [
             0.8784313725490196,
             "rgb(246,188,153)"
            ],
            [
             0.9411764705882353,
             "rgb(247,212,187)"
            ],
            [
             1,
             "rgb(250,234,220)"
            ]
           ]
          },
          "colorway": [
           "rgb(76,114,176)",
           "rgb(221,132,82)",
           "rgb(85,168,104)",
           "rgb(196,78,82)",
           "rgb(129,114,179)",
           "rgb(147,120,96)",
           "rgb(218,139,195)",
           "rgb(140,140,140)",
           "rgb(204,185,116)",
           "rgb(100,181,205)"
          ],
          "font": {
           "color": "rgb(36,36,36)"
          },
          "geo": {
           "bgcolor": "white",
           "lakecolor": "white",
           "landcolor": "rgb(234,234,242)",
           "showlakes": true,
           "showland": true,
           "subunitcolor": "white"
          },
          "hoverlabel": {
           "align": "left"
          },
          "hovermode": "closest",
          "paper_bgcolor": "white",
          "plot_bgcolor": "rgb(234,234,242)",
          "polar": {
           "angularaxis": {
            "gridcolor": "white",
            "linecolor": "white",
            "showgrid": true,
            "ticks": ""
           },
           "bgcolor": "rgb(234,234,242)",
           "radialaxis": {
            "gridcolor": "white",
            "linecolor": "white",
            "showgrid": true,
            "ticks": ""
           }
          },
          "scene": {
           "xaxis": {
            "backgroundcolor": "rgb(234,234,242)",
            "gridcolor": "white",
            "gridwidth": 2,
            "linecolor": "white",
            "showbackground": true,
            "showgrid": true,
            "ticks": "",
            "zerolinecolor": "white"
           },
           "yaxis": {
            "backgroundcolor": "rgb(234,234,242)",
            "gridcolor": "white",
            "gridwidth": 2,
            "linecolor": "white",
            "showbackground": true,
            "showgrid": true,
            "ticks": "",
            "zerolinecolor": "white"
           },
           "zaxis": {
            "backgroundcolor": "rgb(234,234,242)",
            "gridcolor": "white",
            "gridwidth": 2,
            "linecolor": "white",
            "showbackground": true,
            "showgrid": true,
            "ticks": "",
            "zerolinecolor": "white"
           }
          },
          "shapedefaults": {
           "fillcolor": "rgb(67,103,167)",
           "line": {
            "width": 0
           },
           "opacity": 0.5
          },
          "ternary": {
           "aaxis": {
            "gridcolor": "white",
            "linecolor": "white",
            "showgrid": true,
            "ticks": ""
           },
           "baxis": {
            "gridcolor": "white",
            "linecolor": "white",
            "showgrid": true,
            "ticks": ""
           },
           "bgcolor": "rgb(234,234,242)",
           "caxis": {
            "gridcolor": "white",
            "linecolor": "white",
            "showgrid": true,
            "ticks": ""
           }
          },
          "xaxis": {
           "automargin": true,
           "gridcolor": "white",
           "linecolor": "white",
           "showgrid": true,
           "ticks": "",
           "title": {
            "standoff": 15
           },
           "zerolinecolor": "white"
          },
          "yaxis": {
           "automargin": true,
           "gridcolor": "white",
           "linecolor": "white",
           "showgrid": true,
           "ticks": "",
           "title": {
            "standoff": 15
           },
           "zerolinecolor": "white"
          }
         }
        },
        "title": {
         "text": "Montly S&P 500 Close Price Return"
        },
        "xaxis": {
         "anchor": "y",
         "domain": [
          0,
          1
         ],
         "rangeselector": {
          "buttons": [
           {
            "count": 1,
            "label": "1m",
            "step": "month",
            "stepmode": "backward"
           },
           {
            "count": 6,
            "label": "6m",
            "step": "month",
            "stepmode": "backward"
           },
           {
            "count": 1,
            "label": "YTD",
            "step": "year",
            "stepmode": "todate"
           },
           {
            "count": 1,
            "label": "1y",
            "step": "year",
            "stepmode": "backward"
           },
           {
            "count": 5,
            "label": "5y",
            "step": "year",
            "stepmode": "backward"
           },
           {
            "count": 10,
            "label": "10y",
            "step": "year",
            "stepmode": "backward"
           },
           {
            "step": "all"
           }
          ]
         },
         "rangeslider": {
          "visible": false
         },
         "title": {
          "text": "Date"
         }
        },
        "yaxis": {
         "anchor": "x",
         "domain": [
          0,
          1
         ],
         "title": {
          "text": "Return (%)"
         }
        }
       }
      }
     },
     "metadata": {},
     "output_type": "display_data"
    }
   ],
   "source": [
    "# Dibujando el rendimiento mensual\n",
    "\n",
    "# Calcular el rendimiento mensual\n",
    "month_return = sp500.set_index('Date')['Close'].resample(\"M\").last().pct_change().to_frame().reset_index()\n",
    "month_return['Up/Down'] = month_return['Close'] > 0\n",
    "month_return['Up/Down'] = month_return['Up/Down'].replace({True: 'Up', False: 'Down'})\n",
    "month_return['Close'] = month_return['Close'] * 100\n",
    "# Crear un gráfica de los rendimiento mensuales\n",
    "fig = px.bar(month_return, x='Date', y='Close', labels='Montly Return (%)', color='Up/Down', color_discrete_sequence=['rgb(200, 50, 30)', 'rgb(50, 200, 30)'])\n",
    "# Cambiar los nombres de la leyenda\n",
    "fig.update_layout(legend=dict(title='Monthly Return', orientation='h', yanchor='bottom', y=1.02, xanchor='right', x=1))\n",
    "# Personalizar el título y los títulos de los ejes\n",
    "fig.update_layout(title='Montly S&P 500 Close Price Return',\n",
    "                  xaxis_title='Date',\n",
    "                  yaxis_title='Return (%)',\n",
    "                  template=\"seaborn\"\n",
    "                  )\n",
    "fig.update_layout(xaxis_rangeslider_visible=False, height=600,plot_bgcolor='white')\n",
    "fig.update_xaxes(\n",
    "    rangeslider_visible=False,\n",
    "    rangeselector=dict(\n",
    "        buttons=list([\n",
    "            dict(count=1, label=\"1m\", step=\"month\", stepmode=\"backward\"),\n",
    "            dict(count=6, label=\"6m\", step=\"month\", stepmode=\"backward\"),\n",
    "            dict(count=1, label=\"YTD\", step=\"year\", stepmode=\"todate\"),\n",
    "            dict(count=1, label=\"1y\", step=\"year\", stepmode=\"backward\"),\n",
    "            dict(count=5, label=\"5y\", step=\"year\", stepmode=\"backward\"),\n",
    "            dict(count=10, label=\"10y\", step=\"year\", stepmode=\"backward\"),\n",
    "            dict(step=\"all\")\n",
    "        ])\n",
    "    )\n",
    ")\n",
    "# Mostrar la gráfica\n",
    "fig.show()"
   ]
  },
  {
   "attachments": {},
   "cell_type": "markdown",
   "metadata": {},
   "source": [
    "## **ANALISIS POR SECTORES**"
   ]
  },
  {
   "cell_type": "code",
   "execution_count": null,
   "metadata": {},
   "outputs": [],
   "source": [
    "# URL que contiene las compañias que conforman el indice SP500.\n",
    "url = 'https://en.wikipedia.org/wiki/List_of_S%26P_500_companies'\n"
   ]
  },
  {
   "cell_type": "code",
   "execution_count": null,
   "metadata": {},
   "outputs": [
    {
     "name": "stdout",
     "output_type": "stream",
     "text": [
      "Número de tablas en la página web: 2\n"
     ]
    }
   ],
   "source": [
    "wiki_tables = pd.read_html(url)\n",
    "\n",
    "print(\"Número de tablas en la página web:\", len(wiki_tables))\n"
   ]
  },
  {
   "cell_type": "code",
   "execution_count": null,
   "metadata": {},
   "outputs": [
    {
     "data": {
      "text/html": [
       "<div>\n",
       "<style scoped>\n",
       "    .dataframe tbody tr th:only-of-type {\n",
       "        vertical-align: middle;\n",
       "    }\n",
       "\n",
       "    .dataframe tbody tr th {\n",
       "        vertical-align: top;\n",
       "    }\n",
       "\n",
       "    .dataframe thead th {\n",
       "        text-align: right;\n",
       "    }\n",
       "</style>\n",
       "<table border=\"1\" class=\"dataframe\">\n",
       "  <thead>\n",
       "    <tr style=\"text-align: right;\">\n",
       "      <th></th>\n",
       "      <th>Symbol</th>\n",
       "      <th>Security</th>\n",
       "      <th>GICS Sector</th>\n",
       "      <th>GICS Sub-Industry</th>\n",
       "      <th>Headquarters Location</th>\n",
       "      <th>Date added</th>\n",
       "      <th>CIK</th>\n",
       "      <th>Founded</th>\n",
       "    </tr>\n",
       "  </thead>\n",
       "  <tbody>\n",
       "    <tr>\n",
       "      <th>0</th>\n",
       "      <td>MMM</td>\n",
       "      <td>3M</td>\n",
       "      <td>Industrials</td>\n",
       "      <td>Industrial Conglomerates</td>\n",
       "      <td>Saint Paul, Minnesota</td>\n",
       "      <td>1957-03-04</td>\n",
       "      <td>66740</td>\n",
       "      <td>1902</td>\n",
       "    </tr>\n",
       "    <tr>\n",
       "      <th>1</th>\n",
       "      <td>AOS</td>\n",
       "      <td>A. O. Smith</td>\n",
       "      <td>Industrials</td>\n",
       "      <td>Building Products</td>\n",
       "      <td>Milwaukee, Wisconsin</td>\n",
       "      <td>2017-07-26</td>\n",
       "      <td>91142</td>\n",
       "      <td>1916</td>\n",
       "    </tr>\n",
       "    <tr>\n",
       "      <th>2</th>\n",
       "      <td>ABT</td>\n",
       "      <td>Abbott</td>\n",
       "      <td>Health Care</td>\n",
       "      <td>Health Care Equipment</td>\n",
       "      <td>North Chicago, Illinois</td>\n",
       "      <td>1957-03-04</td>\n",
       "      <td>1800</td>\n",
       "      <td>1888</td>\n",
       "    </tr>\n",
       "    <tr>\n",
       "      <th>3</th>\n",
       "      <td>ABBV</td>\n",
       "      <td>AbbVie</td>\n",
       "      <td>Health Care</td>\n",
       "      <td>Pharmaceuticals</td>\n",
       "      <td>North Chicago, Illinois</td>\n",
       "      <td>2012-12-31</td>\n",
       "      <td>1551152</td>\n",
       "      <td>2013 (1888)</td>\n",
       "    </tr>\n",
       "    <tr>\n",
       "      <th>4</th>\n",
       "      <td>ACN</td>\n",
       "      <td>Accenture</td>\n",
       "      <td>Information Technology</td>\n",
       "      <td>IT Consulting &amp; Other Services</td>\n",
       "      <td>Dublin, Ireland</td>\n",
       "      <td>2011-07-06</td>\n",
       "      <td>1467373</td>\n",
       "      <td>1989</td>\n",
       "    </tr>\n",
       "  </tbody>\n",
       "</table>\n",
       "</div>"
      ],
      "text/plain": [
       "  Symbol     Security             GICS Sector               GICS Sub-Industry  \\\n",
       "0    MMM           3M             Industrials        Industrial Conglomerates   \n",
       "1    AOS  A. O. Smith             Industrials               Building Products   \n",
       "2    ABT       Abbott             Health Care           Health Care Equipment   \n",
       "3   ABBV       AbbVie             Health Care                 Pharmaceuticals   \n",
       "4    ACN    Accenture  Information Technology  IT Consulting & Other Services   \n",
       "\n",
       "     Headquarters Location  Date added      CIK      Founded  \n",
       "0    Saint Paul, Minnesota  1957-03-04    66740         1902  \n",
       "1     Milwaukee, Wisconsin  2017-07-26    91142         1916  \n",
       "2  North Chicago, Illinois  1957-03-04     1800         1888  \n",
       "3  North Chicago, Illinois  2012-12-31  1551152  2013 (1888)  \n",
       "4          Dublin, Ireland  2011-07-06  1467373         1989  "
      ]
     },
     "execution_count": 57,
     "metadata": {},
     "output_type": "execute_result"
    }
   ],
   "source": [
    "# Seleccionando la primer tabla\n",
    "wiki_table1 = wiki_tables[0]\n",
    "wiki_table2 = wiki_tables[1]\n",
    "\n",
    "sp500_components = wiki_table1\n",
    "\n",
    "sp500_components.head()"
   ]
  },
  {
   "cell_type": "code",
   "execution_count": null,
   "metadata": {},
   "outputs": [
    {
     "name": "stdout",
     "output_type": "stream",
     "text": [
      "<class 'pandas.core.frame.DataFrame'>\n",
      "RangeIndex: 503 entries, 0 to 502\n",
      "Data columns (total 8 columns):\n",
      " #   Column                 Non-Null Count  Dtype \n",
      "---  ------                 --------------  ----- \n",
      " 0   Symbol                 503 non-null    object\n",
      " 1   Security               503 non-null    object\n",
      " 2   GICS Sector            503 non-null    object\n",
      " 3   GICS Sub-Industry      503 non-null    object\n",
      " 4   Headquarters Location  503 non-null    object\n",
      " 5   Date added             493 non-null    object\n",
      " 6   CIK                    503 non-null    int64 \n",
      " 7   Founded                503 non-null    object\n",
      "dtypes: int64(1), object(7)\n",
      "memory usage: 31.6+ KB\n"
     ]
    }
   ],
   "source": [
    "sp500_components.info()"
   ]
  },
  {
   "cell_type": "code",
   "execution_count": null,
   "metadata": {},
   "outputs": [
    {
     "data": {
      "text/html": [
       "<div>\n",
       "<style scoped>\n",
       "    .dataframe tbody tr th:only-of-type {\n",
       "        vertical-align: middle;\n",
       "    }\n",
       "\n",
       "    .dataframe tbody tr th {\n",
       "        vertical-align: top;\n",
       "    }\n",
       "\n",
       "    .dataframe thead th {\n",
       "        text-align: right;\n",
       "    }\n",
       "</style>\n",
       "<table border=\"1\" class=\"dataframe\">\n",
       "  <thead>\n",
       "    <tr style=\"text-align: right;\">\n",
       "      <th></th>\n",
       "      <th>Symbol</th>\n",
       "      <th>Security</th>\n",
       "      <th>GICS Sector</th>\n",
       "      <th>GICS Sub-Industry</th>\n",
       "      <th>Headquarters Location</th>\n",
       "      <th>Date added</th>\n",
       "      <th>CIK</th>\n",
       "      <th>Founded</th>\n",
       "    </tr>\n",
       "  </thead>\n",
       "  <tbody>\n",
       "    <tr>\n",
       "      <th>64</th>\n",
       "      <td>BRK.B</td>\n",
       "      <td>Berkshire Hathaway</td>\n",
       "      <td>Financials</td>\n",
       "      <td>Multi-Sector Holdings</td>\n",
       "      <td>Omaha, Nebraska</td>\n",
       "      <td>2010-02-16</td>\n",
       "      <td>1067983</td>\n",
       "      <td>1839</td>\n",
       "    </tr>\n",
       "    <tr>\n",
       "      <th>80</th>\n",
       "      <td>BF.B</td>\n",
       "      <td>Brown–Forman</td>\n",
       "      <td>Consumer Staples</td>\n",
       "      <td>Distillers &amp; Vintners</td>\n",
       "      <td>Louisville, Kentucky</td>\n",
       "      <td>1982-10-31</td>\n",
       "      <td>14693</td>\n",
       "      <td>1870</td>\n",
       "    </tr>\n",
       "  </tbody>\n",
       "</table>\n",
       "</div>"
      ],
      "text/plain": [
       "   Symbol            Security       GICS Sector      GICS Sub-Industry  \\\n",
       "64  BRK.B  Berkshire Hathaway        Financials  Multi-Sector Holdings   \n",
       "80   BF.B        Brown–Forman  Consumer Staples  Distillers & Vintners   \n",
       "\n",
       "   Headquarters Location  Date added      CIK Founded  \n",
       "64       Omaha, Nebraska  2010-02-16  1067983    1839  \n",
       "80  Louisville, Kentucky  1982-10-31    14693    1870  "
      ]
     },
     "execution_count": 59,
     "metadata": {},
     "output_type": "execute_result"
    }
   ],
   "source": [
    "# Listando aquellos registros que tienen un \".\" para luego reemplazarlo por \"-\" tal como aparecen en yahoo finance.\n",
    "symbols_with_dot = sp500_components[sp500_components['Symbol'].str.contains('\\.')]\n",
    "\n",
    "\n",
    "symbols_with_dot"
   ]
  },
  {
   "cell_type": "code",
   "execution_count": null,
   "metadata": {},
   "outputs": [],
   "source": [
    " \n",
    "sp500_components['Symbol'] = sp500_components['Symbol'].str.strip().replace({'BF.B': 'BF-B', 'BRK.B': 'BRK-B'})"
   ]
  },
  {
   "cell_type": "code",
   "execution_count": null,
   "metadata": {},
   "outputs": [
    {
     "data": {
      "text/plain": [
       "['MMM', 'AOS', 'ABT', 'ABBV', 'ACN', 'ATVI', 'ADM', 'ADBE', 'ADP', 'AAP']"
      ]
     },
     "execution_count": 61,
     "metadata": {},
     "output_type": "execute_result"
    }
   ],
   "source": [
    "# Creando una lista con los tickers de las acciones\n",
    "\n",
    "sp500_symbols = sp500_components['Symbol'].tolist()\n",
    "\n",
    "sp500_symbols[:10]\n"
   ]
  },
  {
   "cell_type": "code",
   "execution_count": null,
   "metadata": {},
   "outputs": [
    {
     "data": {
      "text/plain": [
       "Industrials               73\n",
       "Financials                73\n",
       "Information Technology    66\n",
       "Health Care               65\n",
       "Consumer Discretionary    53\n",
       "Consumer Staples          37\n",
       "Utilities                 30\n",
       "Real Estate               30\n",
       "Materials                 29\n",
       "Communication Services    24\n",
       "Energy                    23\n",
       "Name: GICS Sector, dtype: int64"
      ]
     },
     "execution_count": 62,
     "metadata": {},
     "output_type": "execute_result"
    }
   ],
   "source": [
    "# Conociendo los sectores del sp500 y la cantidad de acciones que lo componen\n",
    "\n",
    "sectors = sp500_components['GICS Sector'].value_counts( ascending = False)\n",
    "sectors\n"
   ]
  },
  {
   "cell_type": "code",
   "execution_count": null,
   "metadata": {},
   "outputs": [
    {
     "data": {
      "image/png": "[encoded data removed]",
      "text/plain": [
       "<Figure size 700x700 with 1 Axes>"
      ]
     },
     "metadata": {
      "image/png": {
       "height": 592,
       "width": 776
      }
     },
     "output_type": "display_data"
    }
   ],
   "source": [
    "import seaborn as sns\n",
    "\n",
    "# contar la cantidad de acciones por sector\n",
    "# sectors = sp500_sectors['GICS Sector'].value_counts()\n",
    "\n",
    "# crear una paleta de colores secuencial\n",
    "colors = sns.color_palette('Blues', n_colors=11)\n",
    "\n",
    "# ordenar los sectores por cantidad de acciones en orden descendente\n",
    "sorted_sectors = sectors.sort_values(ascending=False).index\n",
    "\n",
    "# graficar el gráfico de pastel\n",
    "def autopct(pct):\n",
    "    return ('{:.1f}%'.format(pct))\n",
    "\n",
    "plt.figure(figsize=(7, 7))  # ajustar el tamaño de la figura\n",
    "plt.pie(sectors[sorted_sectors].values, labels=sorted_sectors, colors=colors[::-1], autopct=autopct, startangle=90, pctdistance=0.8)\n",
    "plt.title('Incidence of each sector in the S&P 500 index', fontsize=16)  # agregar un título al gráfico\n",
    "plt.axis('equal')  # hacer que el gráfico sea circular\n",
    "plt.gca().add_artist(plt.Circle((0, 0), 0.7, color='white'))  # agregar un borde blanco al gráfico\n",
    "plt.show()\n"
   ]
  },
  {
   "cell_type": "code",
   "execution_count": null,
   "metadata": {},
   "outputs": [
    {
     "name": "stdout",
     "output_type": "stream",
     "text": [
      "[*********************100%***********************]  503 of 503 completed\n"
     ]
    },
    {
     "data": {
      "text/html": [
       "<div>\n",
       "<style scoped>\n",
       "    .dataframe tbody tr th:only-of-type {\n",
       "        vertical-align: middle;\n",
       "    }\n",
       "\n",
       "    .dataframe tbody tr th {\n",
       "        vertical-align: top;\n",
       "    }\n",
       "\n",
       "    .dataframe thead tr th {\n",
       "        text-align: left;\n",
       "    }\n",
       "\n",
       "    .dataframe thead tr:last-of-type th {\n",
       "        text-align: right;\n",
       "    }\n",
       "</style>\n",
       "<table border=\"1\" class=\"dataframe\">\n",
       "  <thead>\n",
       "    <tr>\n",
       "      <th></th>\n",
       "      <th colspan=\"10\" halign=\"left\">Close</th>\n",
       "      <th>...</th>\n",
       "      <th colspan=\"10\" halign=\"left\">Volume</th>\n",
       "    </tr>\n",
       "    <tr>\n",
       "      <th></th>\n",
       "      <th>A</th>\n",
       "      <th>AAL</th>\n",
       "      <th>AAP</th>\n",
       "      <th>AAPL</th>\n",
       "      <th>ABBV</th>\n",
       "      <th>ABC</th>\n",
       "      <th>ABT</th>\n",
       "      <th>ACGL</th>\n",
       "      <th>ACN</th>\n",
       "      <th>ADBE</th>\n",
       "      <th>...</th>\n",
       "      <th>WYNN</th>\n",
       "      <th>XEL</th>\n",
       "      <th>XOM</th>\n",
       "      <th>XRAY</th>\n",
       "      <th>XYL</th>\n",
       "      <th>YUM</th>\n",
       "      <th>ZBH</th>\n",
       "      <th>ZBRA</th>\n",
       "      <th>ZION</th>\n",
       "      <th>ZTS</th>\n",
       "    </tr>\n",
       "    <tr>\n",
       "      <th>Date</th>\n",
       "      <th></th>\n",
       "      <th></th>\n",
       "      <th></th>\n",
       "      <th></th>\n",
       "      <th></th>\n",
       "      <th></th>\n",
       "      <th></th>\n",
       "      <th></th>\n",
       "      <th></th>\n",
       "      <th></th>\n",
       "      <th></th>\n",
       "      <th></th>\n",
       "      <th></th>\n",
       "      <th></th>\n",
       "      <th></th>\n",
       "      <th></th>\n",
       "      <th></th>\n",
       "      <th></th>\n",
       "      <th></th>\n",
       "      <th></th>\n",
       "      <th></th>\n",
       "    </tr>\n",
       "  </thead>\n",
       "  <tbody>\n",
       "    <tr>\n",
       "      <th>2023-03-22</th>\n",
       "      <td>133.729996</td>\n",
       "      <td>13.82</td>\n",
       "      <td>113.599998</td>\n",
       "      <td>157.830002</td>\n",
       "      <td>153.669998</td>\n",
       "      <td>153.440002</td>\n",
       "      <td>96.860001</td>\n",
       "      <td>65.870003</td>\n",
       "      <td>253.270004</td>\n",
       "      <td>361.709991</td>\n",
       "      <td>...</td>\n",
       "      <td>2148200.0</td>\n",
       "      <td>3446200</td>\n",
       "      <td>14952700</td>\n",
       "      <td>1932300</td>\n",
       "      <td>1750600.0</td>\n",
       "      <td>1059800</td>\n",
       "      <td>959000.0</td>\n",
       "      <td>362700</td>\n",
       "      <td>7014400</td>\n",
       "      <td>1475600.0</td>\n",
       "    </tr>\n",
       "    <tr>\n",
       "      <th>2023-03-23</th>\n",
       "      <td>131.130005</td>\n",
       "      <td>13.63</td>\n",
       "      <td>111.139999</td>\n",
       "      <td>158.929993</td>\n",
       "      <td>155.300003</td>\n",
       "      <td>150.929993</td>\n",
       "      <td>97.040001</td>\n",
       "      <td>65.599998</td>\n",
       "      <td>271.660004</td>\n",
       "      <td>369.000000</td>\n",
       "      <td>...</td>\n",
       "      <td>2186100.0</td>\n",
       "      <td>3184600</td>\n",
       "      <td>14385900</td>\n",
       "      <td>1616600</td>\n",
       "      <td>1227500.0</td>\n",
       "      <td>1223300</td>\n",
       "      <td>1157800.0</td>\n",
       "      <td>244700</td>\n",
       "      <td>9700700</td>\n",
       "      <td>3560800.0</td>\n",
       "    </tr>\n",
       "    <tr>\n",
       "      <th>2023-03-24</th>\n",
       "      <td>131.960007</td>\n",
       "      <td>13.72</td>\n",
       "      <td>110.830002</td>\n",
       "      <td>160.250000</td>\n",
       "      <td>158.020004</td>\n",
       "      <td>156.410004</td>\n",
       "      <td>98.050003</td>\n",
       "      <td>66.050003</td>\n",
       "      <td>272.000000</td>\n",
       "      <td>374.959991</td>\n",
       "      <td>...</td>\n",
       "      <td>2296400.0</td>\n",
       "      <td>2713100</td>\n",
       "      <td>13401600</td>\n",
       "      <td>1834200</td>\n",
       "      <td>1498100.0</td>\n",
       "      <td>1193800</td>\n",
       "      <td>880500.0</td>\n",
       "      <td>322000</td>\n",
       "      <td>10732600</td>\n",
       "      <td>1864900.0</td>\n",
       "    </tr>\n",
       "    <tr>\n",
       "      <th>2023-03-27</th>\n",
       "      <td>133.070007</td>\n",
       "      <td>13.94</td>\n",
       "      <td>114.739998</td>\n",
       "      <td>158.279999</td>\n",
       "      <td>157.539993</td>\n",
       "      <td>156.690002</td>\n",
       "      <td>98.459999</td>\n",
       "      <td>66.379997</td>\n",
       "      <td>273.959991</td>\n",
       "      <td>373.149994</td>\n",
       "      <td>...</td>\n",
       "      <td>1487200.0</td>\n",
       "      <td>2912900</td>\n",
       "      <td>14805900</td>\n",
       "      <td>1591900</td>\n",
       "      <td>1365700.0</td>\n",
       "      <td>1315000</td>\n",
       "      <td>822700.0</td>\n",
       "      <td>231900</td>\n",
       "      <td>7964100</td>\n",
       "      <td>1273500.0</td>\n",
       "    </tr>\n",
       "    <tr>\n",
       "      <th>2023-03-28</th>\n",
       "      <td>132.630005</td>\n",
       "      <td>13.98</td>\n",
       "      <td>115.739998</td>\n",
       "      <td>157.649994</td>\n",
       "      <td>158.250000</td>\n",
       "      <td>158.000000</td>\n",
       "      <td>97.110001</td>\n",
       "      <td>66.809998</td>\n",
       "      <td>275.000000</td>\n",
       "      <td>373.399994</td>\n",
       "      <td>...</td>\n",
       "      <td>1682700.0</td>\n",
       "      <td>1983000</td>\n",
       "      <td>11033100</td>\n",
       "      <td>1510400</td>\n",
       "      <td>1301700.0</td>\n",
       "      <td>981700</td>\n",
       "      <td>846700.0</td>\n",
       "      <td>177100</td>\n",
       "      <td>3636300</td>\n",
       "      <td>1098300.0</td>\n",
       "    </tr>\n",
       "  </tbody>\n",
       "</table>\n",
       "<p>5 rows × 1006 columns</p>\n",
       "</div>"
      ],
      "text/plain": [
       "                 Close                                                         \\\n",
       "                     A    AAL         AAP        AAPL        ABBV         ABC   \n",
       "Date                                                                            \n",
       "2023-03-22  133.729996  13.82  113.599998  157.830002  153.669998  153.440002   \n",
       "2023-03-23  131.130005  13.63  111.139999  158.929993  155.300003  150.929993   \n",
       "2023-03-24  131.960007  13.72  110.830002  160.250000  158.020004  156.410004   \n",
       "2023-03-27  133.070007  13.94  114.739998  158.279999  157.539993  156.690002   \n",
       "2023-03-28  132.630005  13.98  115.739998  157.649994  158.250000  158.000000   \n",
       "\n",
       "                                                          ...     Volume  \\\n",
       "                  ABT       ACGL         ACN        ADBE  ...       WYNN   \n",
       "Date                                                      ...              \n",
       "2023-03-22  96.860001  65.870003  253.270004  361.709991  ...  2148200.0   \n",
       "2023-03-23  97.040001  65.599998  271.660004  369.000000  ...  2186100.0   \n",
       "2023-03-24  98.050003  66.050003  272.000000  374.959991  ...  2296400.0   \n",
       "2023-03-27  98.459999  66.379997  273.959991  373.149994  ...  1487200.0   \n",
       "2023-03-28  97.110001  66.809998  275.000000  373.399994  ...  1682700.0   \n",
       "\n",
       "                                                                               \\\n",
       "                XEL       XOM     XRAY        XYL      YUM        ZBH    ZBRA   \n",
       "Date                                                                            \n",
       "2023-03-22  3446200  14952700  1932300  1750600.0  1059800   959000.0  362700   \n",
       "2023-03-23  3184600  14385900  1616600  1227500.0  1223300  1157800.0  244700   \n",
       "2023-03-24  2713100  13401600  1834200  1498100.0  1193800   880500.0  322000   \n",
       "2023-03-27  2912900  14805900  1591900  1365700.0  1315000   822700.0  231900   \n",
       "2023-03-28  1983000  11033100  1510400  1301700.0   981700   846700.0  177100   \n",
       "\n",
       "                                 \n",
       "                ZION        ZTS  \n",
       "Date                             \n",
       "2023-03-22   7014400  1475600.0  \n",
       "2023-03-23   9700700  3560800.0  \n",
       "2023-03-24  10732600  1864900.0  \n",
       "2023-03-27   7964100  1273500.0  \n",
       "2023-03-28   3636300  1098300.0  \n",
       "\n",
       "[5 rows x 1006 columns]"
      ]
     },
     "execution_count": 64,
     "metadata": {},
     "output_type": "execute_result"
    }
   ],
   "source": [
    "# Obteniendo la información de cada acción\n",
    "\n",
    "df_data = yf.download(sp500_symbols,start='2000-01-01',end=None)[['Close','Volume']]\n",
    "df_data.tail()\n"
   ]
  },
  {
   "cell_type": "code",
   "execution_count": null,
   "metadata": {},
   "outputs": [
    {
     "name": "stdout",
     "output_type": "stream",
     "text": [
      "<class 'pandas.core.frame.DataFrame'>\n",
      "DatetimeIndex: 5846 entries, 2000-01-03 to 2023-03-28\n",
      "Columns: 1006 entries, ('Close', 'A') to ('Volume', 'ZTS')\n",
      "dtypes: float64(640), int64(366)\n",
      "memory usage: 44.9 MB\n"
     ]
    }
   ],
   "source": [
    "df_data.info()"
   ]
  },
  {
   "cell_type": "code",
   "execution_count": null,
   "metadata": {},
   "outputs": [
    {
     "data": {
      "text/html": [
       "<div>\n",
       "<style scoped>\n",
       "    .dataframe tbody tr th:only-of-type {\n",
       "        vertical-align: middle;\n",
       "    }\n",
       "\n",
       "    .dataframe tbody tr th {\n",
       "        vertical-align: top;\n",
       "    }\n",
       "\n",
       "    .dataframe thead tr th {\n",
       "        text-align: left;\n",
       "    }\n",
       "</style>\n",
       "<table border=\"1\" class=\"dataframe\">\n",
       "  <thead>\n",
       "    <tr>\n",
       "      <th></th>\n",
       "      <th>Date</th>\n",
       "      <th colspan=\"9\" halign=\"left\">Close</th>\n",
       "      <th>...</th>\n",
       "      <th colspan=\"10\" halign=\"left\">Volume</th>\n",
       "    </tr>\n",
       "    <tr>\n",
       "      <th></th>\n",
       "      <th></th>\n",
       "      <th>A</th>\n",
       "      <th>AAL</th>\n",
       "      <th>AAP</th>\n",
       "      <th>AAPL</th>\n",
       "      <th>ABBV</th>\n",
       "      <th>ABC</th>\n",
       "      <th>ABT</th>\n",
       "      <th>ACGL</th>\n",
       "      <th>ACN</th>\n",
       "      <th>...</th>\n",
       "      <th>WYNN</th>\n",
       "      <th>XEL</th>\n",
       "      <th>XOM</th>\n",
       "      <th>XRAY</th>\n",
       "      <th>XYL</th>\n",
       "      <th>YUM</th>\n",
       "      <th>ZBH</th>\n",
       "      <th>ZBRA</th>\n",
       "      <th>ZION</th>\n",
       "      <th>ZTS</th>\n",
       "    </tr>\n",
       "  </thead>\n",
       "  <tbody>\n",
       "    <tr>\n",
       "      <th>5841</th>\n",
       "      <td>2023-03-22</td>\n",
       "      <td>133.729996</td>\n",
       "      <td>13.82</td>\n",
       "      <td>113.599998</td>\n",
       "      <td>157.830002</td>\n",
       "      <td>153.669998</td>\n",
       "      <td>153.440002</td>\n",
       "      <td>96.860001</td>\n",
       "      <td>65.870003</td>\n",
       "      <td>253.270004</td>\n",
       "      <td>...</td>\n",
       "      <td>2148200.0</td>\n",
       "      <td>3446200</td>\n",
       "      <td>14952700</td>\n",
       "      <td>1932300</td>\n",
       "      <td>1750600.0</td>\n",
       "      <td>1059800</td>\n",
       "      <td>959000.0</td>\n",
       "      <td>362700</td>\n",
       "      <td>7014400</td>\n",
       "      <td>1475600.0</td>\n",
       "    </tr>\n",
       "    <tr>\n",
       "      <th>5842</th>\n",
       "      <td>2023-03-23</td>\n",
       "      <td>131.130005</td>\n",
       "      <td>13.63</td>\n",
       "      <td>111.139999</td>\n",
       "      <td>158.929993</td>\n",
       "      <td>155.300003</td>\n",
       "      <td>150.929993</td>\n",
       "      <td>97.040001</td>\n",
       "      <td>65.599998</td>\n",
       "      <td>271.660004</td>\n",
       "      <td>...</td>\n",
       "      <td>2186100.0</td>\n",
       "      <td>3184600</td>\n",
       "      <td>14385900</td>\n",
       "      <td>1616600</td>\n",
       "      <td>1227500.0</td>\n",
       "      <td>1223300</td>\n",
       "      <td>1157800.0</td>\n",
       "      <td>244700</td>\n",
       "      <td>9700700</td>\n",
       "      <td>3560800.0</td>\n",
       "    </tr>\n",
       "    <tr>\n",
       "      <th>5843</th>\n",
       "      <td>2023-03-24</td>\n",
       "      <td>131.960007</td>\n",
       "      <td>13.72</td>\n",
       "      <td>110.830002</td>\n",
       "      <td>160.250000</td>\n",
       "      <td>158.020004</td>\n",
       "      <td>156.410004</td>\n",
       "      <td>98.050003</td>\n",
       "      <td>66.050003</td>\n",
       "      <td>272.000000</td>\n",
       "      <td>...</td>\n",
       "      <td>2296400.0</td>\n",
       "      <td>2713100</td>\n",
       "      <td>13401600</td>\n",
       "      <td>1834200</td>\n",
       "      <td>1498100.0</td>\n",
       "      <td>1193800</td>\n",
       "      <td>880500.0</td>\n",
       "      <td>322000</td>\n",
       "      <td>10732600</td>\n",
       "      <td>1864900.0</td>\n",
       "    </tr>\n",
       "    <tr>\n",
       "      <th>5844</th>\n",
       "      <td>2023-03-27</td>\n",
       "      <td>133.070007</td>\n",
       "      <td>13.94</td>\n",
       "      <td>114.739998</td>\n",
       "      <td>158.279999</td>\n",
       "      <td>157.539993</td>\n",
       "      <td>156.690002</td>\n",
       "      <td>98.459999</td>\n",
       "      <td>66.379997</td>\n",
       "      <td>273.959991</td>\n",
       "      <td>...</td>\n",
       "      <td>1487200.0</td>\n",
       "      <td>2912900</td>\n",
       "      <td>14805900</td>\n",
       "      <td>1591900</td>\n",
       "      <td>1365700.0</td>\n",
       "      <td>1315000</td>\n",
       "      <td>822700.0</td>\n",
       "      <td>231900</td>\n",
       "      <td>7964100</td>\n",
       "      <td>1273500.0</td>\n",
       "    </tr>\n",
       "    <tr>\n",
       "      <th>5845</th>\n",
       "      <td>2023-03-28</td>\n",
       "      <td>132.630005</td>\n",
       "      <td>13.98</td>\n",
       "      <td>115.739998</td>\n",
       "      <td>157.649994</td>\n",
       "      <td>158.250000</td>\n",
       "      <td>158.000000</td>\n",
       "      <td>97.110001</td>\n",
       "      <td>66.809998</td>\n",
       "      <td>275.000000</td>\n",
       "      <td>...</td>\n",
       "      <td>1682700.0</td>\n",
       "      <td>1983000</td>\n",
       "      <td>11033100</td>\n",
       "      <td>1510400</td>\n",
       "      <td>1301700.0</td>\n",
       "      <td>981700</td>\n",
       "      <td>846700.0</td>\n",
       "      <td>177100</td>\n",
       "      <td>3636300</td>\n",
       "      <td>1098300.0</td>\n",
       "    </tr>\n",
       "  </tbody>\n",
       "</table>\n",
       "<p>5 rows × 1007 columns</p>\n",
       "</div>"
      ],
      "text/plain": [
       "           Date       Close                                             \\\n",
       "                          A    AAL         AAP        AAPL        ABBV   \n",
       "5841 2023-03-22  133.729996  13.82  113.599998  157.830002  153.669998   \n",
       "5842 2023-03-23  131.130005  13.63  111.139999  158.929993  155.300003   \n",
       "5843 2023-03-24  131.960007  13.72  110.830002  160.250000  158.020004   \n",
       "5844 2023-03-27  133.070007  13.94  114.739998  158.279999  157.539993   \n",
       "5845 2023-03-28  132.630005  13.98  115.739998  157.649994  158.250000   \n",
       "\n",
       "                                                    ...     Volume           \\\n",
       "             ABC        ABT       ACGL         ACN  ...       WYNN      XEL   \n",
       "5841  153.440002  96.860001  65.870003  253.270004  ...  2148200.0  3446200   \n",
       "5842  150.929993  97.040001  65.599998  271.660004  ...  2186100.0  3184600   \n",
       "5843  156.410004  98.050003  66.050003  272.000000  ...  2296400.0  2713100   \n",
       "5844  156.690002  98.459999  66.379997  273.959991  ...  1487200.0  2912900   \n",
       "5845  158.000000  97.110001  66.809998  275.000000  ...  1682700.0  1983000   \n",
       "\n",
       "                                                                          \\\n",
       "           XOM     XRAY        XYL      YUM        ZBH    ZBRA      ZION   \n",
       "5841  14952700  1932300  1750600.0  1059800   959000.0  362700   7014400   \n",
       "5842  14385900  1616600  1227500.0  1223300  1157800.0  244700   9700700   \n",
       "5843  13401600  1834200  1498100.0  1193800   880500.0  322000  10732600   \n",
       "5844  14805900  1591900  1365700.0  1315000   822700.0  231900   7964100   \n",
       "5845  11033100  1510400  1301700.0   981700   846700.0  177100   3636300   \n",
       "\n",
       "                 \n",
       "            ZTS  \n",
       "5841  1475600.0  \n",
       "5842  3560800.0  \n",
       "5843  1864900.0  \n",
       "5844  1273500.0  \n",
       "5845  1098300.0  \n",
       "\n",
       "[5 rows x 1007 columns]"
      ]
     },
     "execution_count": 66,
     "metadata": {},
     "output_type": "execute_result"
    }
   ],
   "source": [
    "# Convirtiendo la columna 'date' como tipo 'datime'\n",
    "\n",
    "# La variable Date pasa a ser una columna\n",
    "df_data = df_data.reset_index()\n",
    "# Conversion del tipo str a datetime de la varibale Date\n",
    "df_data['Date'] = pd.to_datetime(df_data['Date'])\n",
    "\n",
    "df_data.tail()"
   ]
  },
  {
   "cell_type": "code",
   "execution_count": null,
   "metadata": {},
   "outputs": [],
   "source": [
    "# Guardando el DataFrame en un archivo CSV\n",
    "df_data.to_csv('data/sp500_data.csv', index=False)"
   ]
  }
 ],
 "metadata": {
  "kernelspec": {
   "display_name": "venv",
   "language": "python",
   "name": "python3"
  },
  "language_info": {
   "codemirror_mode": {
    "name": "ipython",
    "version": 3
   },
   "file_extension": ".py",
   "mimetype": "text/x-python",
   "name": "python",
   "nbconvert_exporter": "python",
   "pygments_lexer": "ipython3",
   "version": "3.10.6"
  },
  "orig_nbformat": 4
 },
 "nbformat": 4,
 "nbformat_minor": 2
}
